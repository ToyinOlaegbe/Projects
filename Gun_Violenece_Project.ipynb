{
  "nbformat": 4,
  "nbformat_minor": 0,
  "metadata": {
    "colab": {
      "provenance": []
    },
    "kernelspec": {
      "name": "python3",
      "display_name": "Python 3"
    },
    "language_info": {
      "name": "python"
    }
  },
  "cells": [
    {
      "cell_type": "markdown",
      "source": [
        "# GUN VIOLENCE - MASS/SPREE SHOOTINGS (2012 -2023), USA ANALYTICS\n",
        "##BY\n",
        "#OLUWATOYIN OLAEGBE\n",
        "##INTRODUCTION:\n",
        "Gun violence is a complex and controversial issue in the United States. Over the years, mass shootings and other forms of gun violence have been responsible for the loss of many innocent lives and have caused significant social and economic impacts. It is therefore important to have a clear understanding of the nature and scope of gun violence to develop effective strategies for prevention and intervention.\n",
        "\n",
        "This report aims to provide insights into gun violence in the United States by analyzing data on gun violence incidents that occurred between 2012 and 2022. The data includes information on the location, type, and perpetrator characteristics of the incidents, as well as the number of fatalities and injuries. The insights from this report can be used to inform policy decisions and guide future research on gun violence prevention.\n",
        "\n",
        "About Dataset\n",
        "\n",
        "Dataset contains 141 cases of gun violence from 1982 to March 2023 in the US. The columns in the dataset provide various information about the gun violence incidents, such as the case name, location, date, summary, fatalities, injured, total victims, age of shooter, prior signs of mental health issues, weapons obtained legally, weapon type, race and gender of the shooter, latitude and longitude coordinates, and the type of incident.\n",
        "\n",
        "link to dataset - https://www.kaggle.com/datasets/nidzsharma/us-mass-shootings-19822023\n",
        "\n",
        "\n"
      ],
      "metadata": {
        "id": "4cqFirDBQnOz"
      }
    },
    {
      "cell_type": "code",
      "source": [
        "\n"
      ],
      "metadata": {
        "id": "yJbkSfmTc1Uu"
      },
      "execution_count": null,
      "outputs": []
    },
    {
      "cell_type": "markdown",
      "source": [
        "Import Libraries"
      ],
      "metadata": {
        "id": "E1c40M_QLiOr"
      }
    },
    {
      "cell_type": "code",
      "execution_count": 1,
      "metadata": {
        "id": "DpkPvLC7QBRG"
      },
      "outputs": [],
      "source": [
        "#imported pandas and NumPy to enable the manipulation of the data\n",
        "#imported matplotlib to enable data visualization in python\n",
        "import pandas as pd\n",
        "import numpy as np\n",
        "import matplotlib.pyplot as plt\n",
        "import seaborn as sns\n",
        "import plotly.express as px"
      ]
    },
    {
      "cell_type": "markdown",
      "source": [
        "Connect drive and read data "
      ],
      "metadata": {
        "id": "P9mv8c8l8d-W"
      }
    },
    {
      "cell_type": "code",
      "source": [
        "###Loaded data into pandas DataFrame\n",
        "#$$Got an error becuase i did  not quote the file path - fixed\n",
        "#had to upload the file to gooogle colab everytime\n",
        "#df = pd.read_csv('/content/shooting-1982-2023.csv')"
      ],
      "metadata": {
        "id": "sSBNGB6IQiae"
      },
      "execution_count": 2,
      "outputs": []
    },
    {
      "cell_type": "code",
      "source": [
        "from google.colab import drive\n",
        "drive.mount('/content/drive')"
      ],
      "metadata": {
        "colab": {
          "base_uri": "https://localhost:8080/"
        },
        "id": "yvf1p_4Gut0X",
        "outputId": "94456b24-04a8-40f8-a8ac-ea644a214c90"
      },
      "execution_count": 3,
      "outputs": [
        {
          "output_type": "stream",
          "name": "stdout",
          "text": [
            "Mounted at /content/drive\n"
          ]
        }
      ]
    },
    {
      "cell_type": "code",
      "source": [
        "df = pd.read_csv('/content/drive/MyDrive/shooting-1982-2023.csv')"
      ],
      "metadata": {
        "id": "q0jtWeTD2Vml"
      },
      "execution_count": 4,
      "outputs": []
    },
    {
      "cell_type": "markdown",
      "source": [
        "#Understand the data"
      ],
      "metadata": {
        "id": "wzN0SZ00QuMw"
      }
    },
    {
      "cell_type": "code",
      "source": [
        "#trying to see what the data looks like\n",
        "df.head().T"
      ],
      "metadata": {
        "colab": {
          "base_uri": "https://localhost:8080/",
          "height": 839
        },
        "id": "-EMKK3V_5mcD",
        "outputId": "34376e70-6bda-4fe9-d781-96c2c3fff18a"
      },
      "execution_count": 5,
      "outputs": [
        {
          "output_type": "execute_result",
          "data": {
            "text/plain": [
              "                                                                                  0  \\\n",
              "case                                            Nashville religious school shooting   \n",
              "location                                                              Nashville, TN   \n",
              "date                                                                        3-27-23   \n",
              "summary                           Audrey Hale, 28, who was a former student at t...   \n",
              "fatalities                                                                        6   \n",
              "injured                                                                           1   \n",
              "total_victims                                                                     6   \n",
              "location.1                                                                   School   \n",
              "age_of_shooter                                                                   28   \n",
              "prior_signs_mental_health_issues                                                  -   \n",
              "mental_health_details                                                             -   \n",
              "weapons_obtained_legally                                                          -   \n",
              "where_obtained                                                                    -   \n",
              "weapon_type                              semiautomatic rifle, semiautomatic handgun   \n",
              "weapon_details                                                                    -   \n",
              "race                                                                              -   \n",
              "gender                                    F (identified as transgender, per police)   \n",
              "latitude                                                                          -   \n",
              "longitude                                                                         -   \n",
              "type                                                                           Mass   \n",
              "year                                                                           2023   \n",
              "\n",
              "                                                                                  1  \\\n",
              "case                                             Michigan State University shooting   \n",
              "location                                                     East Lansing, Michigan   \n",
              "date                                                                        2-13-23   \n",
              "summary                           Anthony D. McRae, 43, opened fire at Berkey Ha...   \n",
              "fatalities                                                                        3   \n",
              "injured                                                                           5   \n",
              "total_victims                                                                     8   \n",
              "location.1                                                                   School   \n",
              "age_of_shooter                                                                   43   \n",
              "prior_signs_mental_health_issues                                                  -   \n",
              "mental_health_details                                                             -   \n",
              "weapons_obtained_legally                                                        yes   \n",
              "where_obtained                                                                    -   \n",
              "weapon_type                                                  semiautomatic handguns   \n",
              "weapon_details                                                                    -   \n",
              "race                                                                          Black   \n",
              "gender                                                                            M   \n",
              "latitude                                                                          -   \n",
              "longitude                                                                         -   \n",
              "type                                                                           Mass   \n",
              "year                                                                           2023   \n",
              "\n",
              "                                                                                  2  \\\n",
              "case                                                   Half Moon Bay spree shooting   \n",
              "location                                                  Half Moon Bay, California   \n",
              "date                                                                        1-23-23   \n",
              "summary                           Chunli Zhao, 67, suspected of carrying out the...   \n",
              "fatalities                                                                        7   \n",
              "injured                                                                           1   \n",
              "total_victims                                                                     8   \n",
              "location.1                                                                workplace   \n",
              "age_of_shooter                                                                   67   \n",
              "prior_signs_mental_health_issues                                                  -   \n",
              "mental_health_details                                                             -   \n",
              "weapons_obtained_legally                                                          -   \n",
              "where_obtained                                                                    -   \n",
              "weapon_type                                                   semiautomatic handgun   \n",
              "weapon_details                                                                    -   \n",
              "race                                                                          Asian   \n",
              "gender                                                                            M   \n",
              "latitude                                                                          -   \n",
              "longitude                                                                         -   \n",
              "type                                                                          Spree   \n",
              "year                                                                           2023   \n",
              "\n",
              "                                                                                  3  \\\n",
              "case                                                  LA dance studio mass shooting   \n",
              "location                                                  Monterey Park, California   \n",
              "date                                                                        1-21-23   \n",
              "summary                           Huu Can Tran, 72, fled the scene in a white va...   \n",
              "fatalities                                                                       11   \n",
              "injured                                                                          10   \n",
              "total_victims                                                                    21   \n",
              "location.1                                                                    Other   \n",
              "age_of_shooter                                                                   72   \n",
              "prior_signs_mental_health_issues                                                yes   \n",
              "mental_health_details             According to the LA Times, \"Two law enforcemen...   \n",
              "weapons_obtained_legally                                                          -   \n",
              "where_obtained                                                                    -   \n",
              "weapon_type                          semiautomatic assault weapon (Details pending)   \n",
              "weapon_details                                                                    -   \n",
              "race                                                                          Asian   \n",
              "gender                                                                            M   \n",
              "latitude                                                                          -   \n",
              "longitude                                                                         -   \n",
              "type                                                                           Mass   \n",
              "year                                                                           2023   \n",
              "\n",
              "                                                                                  4  \n",
              "case                                                      Virginia Walmart shooting  \n",
              "location                                                       Chesapeake, Virginia  \n",
              "date                                                                       11-22-22  \n",
              "summary                           Andre Bing, 31, who worked as a supervisor at ...  \n",
              "fatalities                                                                        6  \n",
              "injured                                                                           6  \n",
              "total_victims                                                                    12  \n",
              "location.1                                                                Workplace  \n",
              "age_of_shooter                                                                   31  \n",
              "prior_signs_mental_health_issues                                                  -  \n",
              "mental_health_details                                                             -  \n",
              "weapons_obtained_legally                                                          -  \n",
              "where_obtained                                                                    -  \n",
              "weapon_type                                                   semiautomatic handgun  \n",
              "weapon_details                                                                    -  \n",
              "race                                                                          Black  \n",
              "gender                                                                            M  \n",
              "latitude                                                                          -  \n",
              "longitude                                                                         -  \n",
              "type                                                                           Mass  \n",
              "year                                                                           2022  "
            ],
            "text/html": [
              "\n",
              "  <div id=\"df-53ed8c65-2612-4d88-8abb-b8dace093c7a\">\n",
              "    <div class=\"colab-df-container\">\n",
              "      <div>\n",
              "<style scoped>\n",
              "    .dataframe tbody tr th:only-of-type {\n",
              "        vertical-align: middle;\n",
              "    }\n",
              "\n",
              "    .dataframe tbody tr th {\n",
              "        vertical-align: top;\n",
              "    }\n",
              "\n",
              "    .dataframe thead th {\n",
              "        text-align: right;\n",
              "    }\n",
              "</style>\n",
              "<table border=\"1\" class=\"dataframe\">\n",
              "  <thead>\n",
              "    <tr style=\"text-align: right;\">\n",
              "      <th></th>\n",
              "      <th>0</th>\n",
              "      <th>1</th>\n",
              "      <th>2</th>\n",
              "      <th>3</th>\n",
              "      <th>4</th>\n",
              "    </tr>\n",
              "  </thead>\n",
              "  <tbody>\n",
              "    <tr>\n",
              "      <th>case</th>\n",
              "      <td>Nashville religious school shooting</td>\n",
              "      <td>Michigan State University shooting</td>\n",
              "      <td>Half Moon Bay spree shooting</td>\n",
              "      <td>LA dance studio mass shooting</td>\n",
              "      <td>Virginia Walmart shooting</td>\n",
              "    </tr>\n",
              "    <tr>\n",
              "      <th>location</th>\n",
              "      <td>Nashville, TN</td>\n",
              "      <td>East Lansing, Michigan</td>\n",
              "      <td>Half Moon Bay, California</td>\n",
              "      <td>Monterey Park, California</td>\n",
              "      <td>Chesapeake, Virginia</td>\n",
              "    </tr>\n",
              "    <tr>\n",
              "      <th>date</th>\n",
              "      <td>3-27-23</td>\n",
              "      <td>2-13-23</td>\n",
              "      <td>1-23-23</td>\n",
              "      <td>1-21-23</td>\n",
              "      <td>11-22-22</td>\n",
              "    </tr>\n",
              "    <tr>\n",
              "      <th>summary</th>\n",
              "      <td>Audrey Hale, 28, who was a former student at t...</td>\n",
              "      <td>Anthony D. McRae, 43, opened fire at Berkey Ha...</td>\n",
              "      <td>Chunli Zhao, 67, suspected of carrying out the...</td>\n",
              "      <td>Huu Can Tran, 72, fled the scene in a white va...</td>\n",
              "      <td>Andre Bing, 31, who worked as a supervisor at ...</td>\n",
              "    </tr>\n",
              "    <tr>\n",
              "      <th>fatalities</th>\n",
              "      <td>6</td>\n",
              "      <td>3</td>\n",
              "      <td>7</td>\n",
              "      <td>11</td>\n",
              "      <td>6</td>\n",
              "    </tr>\n",
              "    <tr>\n",
              "      <th>injured</th>\n",
              "      <td>1</td>\n",
              "      <td>5</td>\n",
              "      <td>1</td>\n",
              "      <td>10</td>\n",
              "      <td>6</td>\n",
              "    </tr>\n",
              "    <tr>\n",
              "      <th>total_victims</th>\n",
              "      <td>6</td>\n",
              "      <td>8</td>\n",
              "      <td>8</td>\n",
              "      <td>21</td>\n",
              "      <td>12</td>\n",
              "    </tr>\n",
              "    <tr>\n",
              "      <th>location.1</th>\n",
              "      <td>School</td>\n",
              "      <td>School</td>\n",
              "      <td>workplace</td>\n",
              "      <td>Other</td>\n",
              "      <td>Workplace</td>\n",
              "    </tr>\n",
              "    <tr>\n",
              "      <th>age_of_shooter</th>\n",
              "      <td>28</td>\n",
              "      <td>43</td>\n",
              "      <td>67</td>\n",
              "      <td>72</td>\n",
              "      <td>31</td>\n",
              "    </tr>\n",
              "    <tr>\n",
              "      <th>prior_signs_mental_health_issues</th>\n",
              "      <td>-</td>\n",
              "      <td>-</td>\n",
              "      <td>-</td>\n",
              "      <td>yes</td>\n",
              "      <td>-</td>\n",
              "    </tr>\n",
              "    <tr>\n",
              "      <th>mental_health_details</th>\n",
              "      <td>-</td>\n",
              "      <td>-</td>\n",
              "      <td>-</td>\n",
              "      <td>According to the LA Times, \"Two law enforcemen...</td>\n",
              "      <td>-</td>\n",
              "    </tr>\n",
              "    <tr>\n",
              "      <th>weapons_obtained_legally</th>\n",
              "      <td>-</td>\n",
              "      <td>yes</td>\n",
              "      <td>-</td>\n",
              "      <td>-</td>\n",
              "      <td>-</td>\n",
              "    </tr>\n",
              "    <tr>\n",
              "      <th>where_obtained</th>\n",
              "      <td>-</td>\n",
              "      <td>-</td>\n",
              "      <td>-</td>\n",
              "      <td>-</td>\n",
              "      <td>-</td>\n",
              "    </tr>\n",
              "    <tr>\n",
              "      <th>weapon_type</th>\n",
              "      <td>semiautomatic rifle, semiautomatic handgun</td>\n",
              "      <td>semiautomatic handguns</td>\n",
              "      <td>semiautomatic handgun</td>\n",
              "      <td>semiautomatic assault weapon (Details pending)</td>\n",
              "      <td>semiautomatic handgun</td>\n",
              "    </tr>\n",
              "    <tr>\n",
              "      <th>weapon_details</th>\n",
              "      <td>-</td>\n",
              "      <td>-</td>\n",
              "      <td>-</td>\n",
              "      <td>-</td>\n",
              "      <td>-</td>\n",
              "    </tr>\n",
              "    <tr>\n",
              "      <th>race</th>\n",
              "      <td>-</td>\n",
              "      <td>Black</td>\n",
              "      <td>Asian</td>\n",
              "      <td>Asian</td>\n",
              "      <td>Black</td>\n",
              "    </tr>\n",
              "    <tr>\n",
              "      <th>gender</th>\n",
              "      <td>F (identified as transgender, per police)</td>\n",
              "      <td>M</td>\n",
              "      <td>M</td>\n",
              "      <td>M</td>\n",
              "      <td>M</td>\n",
              "    </tr>\n",
              "    <tr>\n",
              "      <th>latitude</th>\n",
              "      <td>-</td>\n",
              "      <td>-</td>\n",
              "      <td>-</td>\n",
              "      <td>-</td>\n",
              "      <td>-</td>\n",
              "    </tr>\n",
              "    <tr>\n",
              "      <th>longitude</th>\n",
              "      <td>-</td>\n",
              "      <td>-</td>\n",
              "      <td>-</td>\n",
              "      <td>-</td>\n",
              "      <td>-</td>\n",
              "    </tr>\n",
              "    <tr>\n",
              "      <th>type</th>\n",
              "      <td>Mass</td>\n",
              "      <td>Mass</td>\n",
              "      <td>Spree</td>\n",
              "      <td>Mass</td>\n",
              "      <td>Mass</td>\n",
              "    </tr>\n",
              "    <tr>\n",
              "      <th>year</th>\n",
              "      <td>2023</td>\n",
              "      <td>2023</td>\n",
              "      <td>2023</td>\n",
              "      <td>2023</td>\n",
              "      <td>2022</td>\n",
              "    </tr>\n",
              "  </tbody>\n",
              "</table>\n",
              "</div>\n",
              "      <button class=\"colab-df-convert\" onclick=\"convertToInteractive('df-53ed8c65-2612-4d88-8abb-b8dace093c7a')\"\n",
              "              title=\"Convert this dataframe to an interactive table.\"\n",
              "              style=\"display:none;\">\n",
              "        \n",
              "  <svg xmlns=\"http://www.w3.org/2000/svg\" height=\"24px\"viewBox=\"0 0 24 24\"\n",
              "       width=\"24px\">\n",
              "    <path d=\"M0 0h24v24H0V0z\" fill=\"none\"/>\n",
              "    <path d=\"M18.56 5.44l.94 2.06.94-2.06 2.06-.94-2.06-.94-.94-2.06-.94 2.06-2.06.94zm-11 1L8.5 8.5l.94-2.06 2.06-.94-2.06-.94L8.5 2.5l-.94 2.06-2.06.94zm10 10l.94 2.06.94-2.06 2.06-.94-2.06-.94-.94-2.06-.94 2.06-2.06.94z\"/><path d=\"M17.41 7.96l-1.37-1.37c-.4-.4-.92-.59-1.43-.59-.52 0-1.04.2-1.43.59L10.3 9.45l-7.72 7.72c-.78.78-.78 2.05 0 2.83L4 21.41c.39.39.9.59 1.41.59.51 0 1.02-.2 1.41-.59l7.78-7.78 2.81-2.81c.8-.78.8-2.07 0-2.86zM5.41 20L4 18.59l7.72-7.72 1.47 1.35L5.41 20z\"/>\n",
              "  </svg>\n",
              "      </button>\n",
              "      \n",
              "  <style>\n",
              "    .colab-df-container {\n",
              "      display:flex;\n",
              "      flex-wrap:wrap;\n",
              "      gap: 12px;\n",
              "    }\n",
              "\n",
              "    .colab-df-convert {\n",
              "      background-color: #E8F0FE;\n",
              "      border: none;\n",
              "      border-radius: 50%;\n",
              "      cursor: pointer;\n",
              "      display: none;\n",
              "      fill: #1967D2;\n",
              "      height: 32px;\n",
              "      padding: 0 0 0 0;\n",
              "      width: 32px;\n",
              "    }\n",
              "\n",
              "    .colab-df-convert:hover {\n",
              "      background-color: #E2EBFA;\n",
              "      box-shadow: 0px 1px 2px rgba(60, 64, 67, 0.3), 0px 1px 3px 1px rgba(60, 64, 67, 0.15);\n",
              "      fill: #174EA6;\n",
              "    }\n",
              "\n",
              "    [theme=dark] .colab-df-convert {\n",
              "      background-color: #3B4455;\n",
              "      fill: #D2E3FC;\n",
              "    }\n",
              "\n",
              "    [theme=dark] .colab-df-convert:hover {\n",
              "      background-color: #434B5C;\n",
              "      box-shadow: 0px 1px 3px 1px rgba(0, 0, 0, 0.15);\n",
              "      filter: drop-shadow(0px 1px 2px rgba(0, 0, 0, 0.3));\n",
              "      fill: #FFFFFF;\n",
              "    }\n",
              "  </style>\n",
              "\n",
              "      <script>\n",
              "        const buttonEl =\n",
              "          document.querySelector('#df-53ed8c65-2612-4d88-8abb-b8dace093c7a button.colab-df-convert');\n",
              "        buttonEl.style.display =\n",
              "          google.colab.kernel.accessAllowed ? 'block' : 'none';\n",
              "\n",
              "        async function convertToInteractive(key) {\n",
              "          const element = document.querySelector('#df-53ed8c65-2612-4d88-8abb-b8dace093c7a');\n",
              "          const dataTable =\n",
              "            await google.colab.kernel.invokeFunction('convertToInteractive',\n",
              "                                                     [key], {});\n",
              "          if (!dataTable) return;\n",
              "\n",
              "          const docLinkHtml = 'Like what you see? Visit the ' +\n",
              "            '<a target=\"_blank\" href=https://colab.research.google.com/notebooks/data_table.ipynb>data table notebook</a>'\n",
              "            + ' to learn more about interactive tables.';\n",
              "          element.innerHTML = '';\n",
              "          dataTable['output_type'] = 'display_data';\n",
              "          await google.colab.output.renderOutput(dataTable, element);\n",
              "          const docLink = document.createElement('div');\n",
              "          docLink.innerHTML = docLinkHtml;\n",
              "          element.appendChild(docLink);\n",
              "        }\n",
              "      </script>\n",
              "    </div>\n",
              "  </div>\n",
              "  "
            ]
          },
          "metadata": {},
          "execution_count": 5
        }
      ]
    },
    {
      "cell_type": "code",
      "source": [
        "#Getting to know the data and data types\n",
        "df.info()"
      ],
      "metadata": {
        "colab": {
          "base_uri": "https://localhost:8080/"
        },
        "id": "2TZw9YPE4O6j",
        "outputId": "db7c4767-caad-400a-f01a-6b2e07daa79c"
      },
      "execution_count": 6,
      "outputs": [
        {
          "output_type": "stream",
          "name": "stdout",
          "text": [
            "<class 'pandas.core.frame.DataFrame'>\n",
            "RangeIndex: 141 entries, 0 to 140\n",
            "Data columns (total 21 columns):\n",
            " #   Column                            Non-Null Count  Dtype \n",
            "---  ------                            --------------  ----- \n",
            " 0   case                              141 non-null    object\n",
            " 1   location                          141 non-null    object\n",
            " 2   date                              141 non-null    object\n",
            " 3   summary                           141 non-null    object\n",
            " 4   fatalities                        141 non-null    int64 \n",
            " 5   injured                           141 non-null    object\n",
            " 6   total_victims                     141 non-null    object\n",
            " 7   location.1                        141 non-null    object\n",
            " 8   age_of_shooter                    141 non-null    object\n",
            " 9   prior_signs_mental_health_issues  141 non-null    object\n",
            " 10  mental_health_details             141 non-null    object\n",
            " 11  weapons_obtained_legally          141 non-null    object\n",
            " 12  where_obtained                    141 non-null    object\n",
            " 13  weapon_type                       141 non-null    object\n",
            " 14  weapon_details                    140 non-null    object\n",
            " 15  race                              141 non-null    object\n",
            " 16  gender                            141 non-null    object\n",
            " 17  latitude                          141 non-null    object\n",
            " 18  longitude                         141 non-null    object\n",
            " 19  type                              141 non-null    object\n",
            " 20  year                              141 non-null    int64 \n",
            "dtypes: int64(2), object(19)\n",
            "memory usage: 23.3+ KB\n"
          ]
        }
      ]
    },
    {
      "cell_type": "markdown",
      "source": [
        "#Data Cleaning and Validation"
      ],
      "metadata": {
        "id": "IszW4hLw8TL6"
      }
    },
    {
      "cell_type": "code",
      "source": [
        "#checking for duplicates\n",
        "df.duplicated().sum()\n",
        "#no duplicates found"
      ],
      "metadata": {
        "colab": {
          "base_uri": "https://localhost:8080/"
        },
        "id": "JzW77uo_9adf",
        "outputId": "ff5993d9-1d7b-4554-d91a-a1d85316665d"
      },
      "execution_count": 7,
      "outputs": [
        {
          "output_type": "execute_result",
          "data": {
            "text/plain": [
              "0"
            ]
          },
          "metadata": {},
          "execution_count": 7
        }
      ]
    },
    {
      "cell_type": "code",
      "source": [
        "#change date column data type to date\n",
        "df['date'] = pd.to_datetime(df['date'])"
      ],
      "metadata": {
        "colab": {
          "base_uri": "https://localhost:8080/"
        },
        "id": "8TK-3GEY992O",
        "outputId": "3e15ab86-e152-4de8-9334-405b6d23c351"
      },
      "execution_count": 8,
      "outputs": [
        {
          "output_type": "stream",
          "name": "stderr",
          "text": [
            "<ipython-input-8-292230ad10a2>:2: UserWarning: Parsing dates in DD/MM/YYYY format when dayfirst=False (the default) was specified. This may lead to inconsistently parsed dates! Specify a format to ensure consistent parsing.\n",
            "  df['date'] = pd.to_datetime(df['date'])\n"
          ]
        }
      ]
    },
    {
      "cell_type": "code",
      "source": [
        "#working with data from 2012 - 2023\n",
        "df = df[df['year'] >= 2012]"
      ],
      "metadata": {
        "id": "_utQzHwKFWId"
      },
      "execution_count": 9,
      "outputs": []
    },
    {
      "cell_type": "code",
      "source": [
        "#location = city, state\n",
        "#splitting location to City and State\n",
        "location_split = df['location'].str.split(',', expand=True)"
      ],
      "metadata": {
        "id": "vmFQoRqm14GU"
      },
      "execution_count": 10,
      "outputs": []
    },
    {
      "cell_type": "code",
      "source": [
        "df['City'] = location_split[0]\n",
        "df['State'] = location_split[1]"
      ],
      "metadata": {
        "id": "mHYC_xw-3X5L"
      },
      "execution_count": 11,
      "outputs": []
    },
    {
      "cell_type": "markdown",
      "source": [
        "Create new columns (Day/Month)"
      ],
      "metadata": {
        "id": "WdtoWsujGbAr"
      }
    },
    {
      "cell_type": "code",
      "source": [
        "df['month_name'] = df['date'].dt.month_name()\n",
        "df['day_of_week'] = df['date'].dt.day_name()\n",
        "df.head().T"
      ],
      "metadata": {
        "colab": {
          "base_uri": "https://localhost:8080/",
          "height": 964
        },
        "id": "3iKKkHuXDt7v",
        "outputId": "b0168f9f-653f-4949-acce-fbeaf7e01f6e"
      },
      "execution_count": 12,
      "outputs": [
        {
          "output_type": "execute_result",
          "data": {
            "text/plain": [
              "                                                                                  0  \\\n",
              "case                                            Nashville religious school shooting   \n",
              "location                                                              Nashville, TN   \n",
              "date                                                            2023-03-27 00:00:00   \n",
              "summary                           Audrey Hale, 28, who was a former student at t...   \n",
              "fatalities                                                                        6   \n",
              "injured                                                                           1   \n",
              "total_victims                                                                     6   \n",
              "location.1                                                                   School   \n",
              "age_of_shooter                                                                   28   \n",
              "prior_signs_mental_health_issues                                                  -   \n",
              "mental_health_details                                                             -   \n",
              "weapons_obtained_legally                                                          -   \n",
              "where_obtained                                                                    -   \n",
              "weapon_type                              semiautomatic rifle, semiautomatic handgun   \n",
              "weapon_details                                                                    -   \n",
              "race                                                                              -   \n",
              "gender                                    F (identified as transgender, per police)   \n",
              "latitude                                                                          -   \n",
              "longitude                                                                         -   \n",
              "type                                                                           Mass   \n",
              "year                                                                           2023   \n",
              "City                                                                      Nashville   \n",
              "State                                                                            TN   \n",
              "month_name                                                                    March   \n",
              "day_of_week                                                                  Monday   \n",
              "\n",
              "                                                                                  1  \\\n",
              "case                                             Michigan State University shooting   \n",
              "location                                                     East Lansing, Michigan   \n",
              "date                                                            2023-02-13 00:00:00   \n",
              "summary                           Anthony D. McRae, 43, opened fire at Berkey Ha...   \n",
              "fatalities                                                                        3   \n",
              "injured                                                                           5   \n",
              "total_victims                                                                     8   \n",
              "location.1                                                                   School   \n",
              "age_of_shooter                                                                   43   \n",
              "prior_signs_mental_health_issues                                                  -   \n",
              "mental_health_details                                                             -   \n",
              "weapons_obtained_legally                                                        yes   \n",
              "where_obtained                                                                    -   \n",
              "weapon_type                                                  semiautomatic handguns   \n",
              "weapon_details                                                                    -   \n",
              "race                                                                          Black   \n",
              "gender                                                                            M   \n",
              "latitude                                                                          -   \n",
              "longitude                                                                         -   \n",
              "type                                                                           Mass   \n",
              "year                                                                           2023   \n",
              "City                                                                   East Lansing   \n",
              "State                                                                      Michigan   \n",
              "month_name                                                                 February   \n",
              "day_of_week                                                                  Monday   \n",
              "\n",
              "                                                                                  2  \\\n",
              "case                                                   Half Moon Bay spree shooting   \n",
              "location                                                  Half Moon Bay, California   \n",
              "date                                                            2023-01-23 00:00:00   \n",
              "summary                           Chunli Zhao, 67, suspected of carrying out the...   \n",
              "fatalities                                                                        7   \n",
              "injured                                                                           1   \n",
              "total_victims                                                                     8   \n",
              "location.1                                                                workplace   \n",
              "age_of_shooter                                                                   67   \n",
              "prior_signs_mental_health_issues                                                  -   \n",
              "mental_health_details                                                             -   \n",
              "weapons_obtained_legally                                                          -   \n",
              "where_obtained                                                                    -   \n",
              "weapon_type                                                   semiautomatic handgun   \n",
              "weapon_details                                                                    -   \n",
              "race                                                                          Asian   \n",
              "gender                                                                            M   \n",
              "latitude                                                                          -   \n",
              "longitude                                                                         -   \n",
              "type                                                                          Spree   \n",
              "year                                                                           2023   \n",
              "City                                                                  Half Moon Bay   \n",
              "State                                                                    California   \n",
              "month_name                                                                  January   \n",
              "day_of_week                                                                  Monday   \n",
              "\n",
              "                                                                                  3  \\\n",
              "case                                                  LA dance studio mass shooting   \n",
              "location                                                  Monterey Park, California   \n",
              "date                                                            2023-01-21 00:00:00   \n",
              "summary                           Huu Can Tran, 72, fled the scene in a white va...   \n",
              "fatalities                                                                       11   \n",
              "injured                                                                          10   \n",
              "total_victims                                                                    21   \n",
              "location.1                                                                    Other   \n",
              "age_of_shooter                                                                   72   \n",
              "prior_signs_mental_health_issues                                                yes   \n",
              "mental_health_details             According to the LA Times, \"Two law enforcemen...   \n",
              "weapons_obtained_legally                                                          -   \n",
              "where_obtained                                                                    -   \n",
              "weapon_type                          semiautomatic assault weapon (Details pending)   \n",
              "weapon_details                                                                    -   \n",
              "race                                                                          Asian   \n",
              "gender                                                                            M   \n",
              "latitude                                                                          -   \n",
              "longitude                                                                         -   \n",
              "type                                                                           Mass   \n",
              "year                                                                           2023   \n",
              "City                                                                  Monterey Park   \n",
              "State                                                                    California   \n",
              "month_name                                                                  January   \n",
              "day_of_week                                                                Saturday   \n",
              "\n",
              "                                                                                  4  \n",
              "case                                                      Virginia Walmart shooting  \n",
              "location                                                       Chesapeake, Virginia  \n",
              "date                                                            2022-11-22 00:00:00  \n",
              "summary                           Andre Bing, 31, who worked as a supervisor at ...  \n",
              "fatalities                                                                        6  \n",
              "injured                                                                           6  \n",
              "total_victims                                                                    12  \n",
              "location.1                                                                Workplace  \n",
              "age_of_shooter                                                                   31  \n",
              "prior_signs_mental_health_issues                                                  -  \n",
              "mental_health_details                                                             -  \n",
              "weapons_obtained_legally                                                          -  \n",
              "where_obtained                                                                    -  \n",
              "weapon_type                                                   semiautomatic handgun  \n",
              "weapon_details                                                                    -  \n",
              "race                                                                          Black  \n",
              "gender                                                                            M  \n",
              "latitude                                                                          -  \n",
              "longitude                                                                         -  \n",
              "type                                                                           Mass  \n",
              "year                                                                           2022  \n",
              "City                                                                     Chesapeake  \n",
              "State                                                                      Virginia  \n",
              "month_name                                                                 November  \n",
              "day_of_week                                                                 Tuesday  "
            ],
            "text/html": [
              "\n",
              "  <div id=\"df-867098c0-53d1-4483-b556-ab521184a42b\">\n",
              "    <div class=\"colab-df-container\">\n",
              "      <div>\n",
              "<style scoped>\n",
              "    .dataframe tbody tr th:only-of-type {\n",
              "        vertical-align: middle;\n",
              "    }\n",
              "\n",
              "    .dataframe tbody tr th {\n",
              "        vertical-align: top;\n",
              "    }\n",
              "\n",
              "    .dataframe thead th {\n",
              "        text-align: right;\n",
              "    }\n",
              "</style>\n",
              "<table border=\"1\" class=\"dataframe\">\n",
              "  <thead>\n",
              "    <tr style=\"text-align: right;\">\n",
              "      <th></th>\n",
              "      <th>0</th>\n",
              "      <th>1</th>\n",
              "      <th>2</th>\n",
              "      <th>3</th>\n",
              "      <th>4</th>\n",
              "    </tr>\n",
              "  </thead>\n",
              "  <tbody>\n",
              "    <tr>\n",
              "      <th>case</th>\n",
              "      <td>Nashville religious school shooting</td>\n",
              "      <td>Michigan State University shooting</td>\n",
              "      <td>Half Moon Bay spree shooting</td>\n",
              "      <td>LA dance studio mass shooting</td>\n",
              "      <td>Virginia Walmart shooting</td>\n",
              "    </tr>\n",
              "    <tr>\n",
              "      <th>location</th>\n",
              "      <td>Nashville, TN</td>\n",
              "      <td>East Lansing, Michigan</td>\n",
              "      <td>Half Moon Bay, California</td>\n",
              "      <td>Monterey Park, California</td>\n",
              "      <td>Chesapeake, Virginia</td>\n",
              "    </tr>\n",
              "    <tr>\n",
              "      <th>date</th>\n",
              "      <td>2023-03-27 00:00:00</td>\n",
              "      <td>2023-02-13 00:00:00</td>\n",
              "      <td>2023-01-23 00:00:00</td>\n",
              "      <td>2023-01-21 00:00:00</td>\n",
              "      <td>2022-11-22 00:00:00</td>\n",
              "    </tr>\n",
              "    <tr>\n",
              "      <th>summary</th>\n",
              "      <td>Audrey Hale, 28, who was a former student at t...</td>\n",
              "      <td>Anthony D. McRae, 43, opened fire at Berkey Ha...</td>\n",
              "      <td>Chunli Zhao, 67, suspected of carrying out the...</td>\n",
              "      <td>Huu Can Tran, 72, fled the scene in a white va...</td>\n",
              "      <td>Andre Bing, 31, who worked as a supervisor at ...</td>\n",
              "    </tr>\n",
              "    <tr>\n",
              "      <th>fatalities</th>\n",
              "      <td>6</td>\n",
              "      <td>3</td>\n",
              "      <td>7</td>\n",
              "      <td>11</td>\n",
              "      <td>6</td>\n",
              "    </tr>\n",
              "    <tr>\n",
              "      <th>injured</th>\n",
              "      <td>1</td>\n",
              "      <td>5</td>\n",
              "      <td>1</td>\n",
              "      <td>10</td>\n",
              "      <td>6</td>\n",
              "    </tr>\n",
              "    <tr>\n",
              "      <th>total_victims</th>\n",
              "      <td>6</td>\n",
              "      <td>8</td>\n",
              "      <td>8</td>\n",
              "      <td>21</td>\n",
              "      <td>12</td>\n",
              "    </tr>\n",
              "    <tr>\n",
              "      <th>location.1</th>\n",
              "      <td>School</td>\n",
              "      <td>School</td>\n",
              "      <td>workplace</td>\n",
              "      <td>Other</td>\n",
              "      <td>Workplace</td>\n",
              "    </tr>\n",
              "    <tr>\n",
              "      <th>age_of_shooter</th>\n",
              "      <td>28</td>\n",
              "      <td>43</td>\n",
              "      <td>67</td>\n",
              "      <td>72</td>\n",
              "      <td>31</td>\n",
              "    </tr>\n",
              "    <tr>\n",
              "      <th>prior_signs_mental_health_issues</th>\n",
              "      <td>-</td>\n",
              "      <td>-</td>\n",
              "      <td>-</td>\n",
              "      <td>yes</td>\n",
              "      <td>-</td>\n",
              "    </tr>\n",
              "    <tr>\n",
              "      <th>mental_health_details</th>\n",
              "      <td>-</td>\n",
              "      <td>-</td>\n",
              "      <td>-</td>\n",
              "      <td>According to the LA Times, \"Two law enforcemen...</td>\n",
              "      <td>-</td>\n",
              "    </tr>\n",
              "    <tr>\n",
              "      <th>weapons_obtained_legally</th>\n",
              "      <td>-</td>\n",
              "      <td>yes</td>\n",
              "      <td>-</td>\n",
              "      <td>-</td>\n",
              "      <td>-</td>\n",
              "    </tr>\n",
              "    <tr>\n",
              "      <th>where_obtained</th>\n",
              "      <td>-</td>\n",
              "      <td>-</td>\n",
              "      <td>-</td>\n",
              "      <td>-</td>\n",
              "      <td>-</td>\n",
              "    </tr>\n",
              "    <tr>\n",
              "      <th>weapon_type</th>\n",
              "      <td>semiautomatic rifle, semiautomatic handgun</td>\n",
              "      <td>semiautomatic handguns</td>\n",
              "      <td>semiautomatic handgun</td>\n",
              "      <td>semiautomatic assault weapon (Details pending)</td>\n",
              "      <td>semiautomatic handgun</td>\n",
              "    </tr>\n",
              "    <tr>\n",
              "      <th>weapon_details</th>\n",
              "      <td>-</td>\n",
              "      <td>-</td>\n",
              "      <td>-</td>\n",
              "      <td>-</td>\n",
              "      <td>-</td>\n",
              "    </tr>\n",
              "    <tr>\n",
              "      <th>race</th>\n",
              "      <td>-</td>\n",
              "      <td>Black</td>\n",
              "      <td>Asian</td>\n",
              "      <td>Asian</td>\n",
              "      <td>Black</td>\n",
              "    </tr>\n",
              "    <tr>\n",
              "      <th>gender</th>\n",
              "      <td>F (identified as transgender, per police)</td>\n",
              "      <td>M</td>\n",
              "      <td>M</td>\n",
              "      <td>M</td>\n",
              "      <td>M</td>\n",
              "    </tr>\n",
              "    <tr>\n",
              "      <th>latitude</th>\n",
              "      <td>-</td>\n",
              "      <td>-</td>\n",
              "      <td>-</td>\n",
              "      <td>-</td>\n",
              "      <td>-</td>\n",
              "    </tr>\n",
              "    <tr>\n",
              "      <th>longitude</th>\n",
              "      <td>-</td>\n",
              "      <td>-</td>\n",
              "      <td>-</td>\n",
              "      <td>-</td>\n",
              "      <td>-</td>\n",
              "    </tr>\n",
              "    <tr>\n",
              "      <th>type</th>\n",
              "      <td>Mass</td>\n",
              "      <td>Mass</td>\n",
              "      <td>Spree</td>\n",
              "      <td>Mass</td>\n",
              "      <td>Mass</td>\n",
              "    </tr>\n",
              "    <tr>\n",
              "      <th>year</th>\n",
              "      <td>2023</td>\n",
              "      <td>2023</td>\n",
              "      <td>2023</td>\n",
              "      <td>2023</td>\n",
              "      <td>2022</td>\n",
              "    </tr>\n",
              "    <tr>\n",
              "      <th>City</th>\n",
              "      <td>Nashville</td>\n",
              "      <td>East Lansing</td>\n",
              "      <td>Half Moon Bay</td>\n",
              "      <td>Monterey Park</td>\n",
              "      <td>Chesapeake</td>\n",
              "    </tr>\n",
              "    <tr>\n",
              "      <th>State</th>\n",
              "      <td>TN</td>\n",
              "      <td>Michigan</td>\n",
              "      <td>California</td>\n",
              "      <td>California</td>\n",
              "      <td>Virginia</td>\n",
              "    </tr>\n",
              "    <tr>\n",
              "      <th>month_name</th>\n",
              "      <td>March</td>\n",
              "      <td>February</td>\n",
              "      <td>January</td>\n",
              "      <td>January</td>\n",
              "      <td>November</td>\n",
              "    </tr>\n",
              "    <tr>\n",
              "      <th>day_of_week</th>\n",
              "      <td>Monday</td>\n",
              "      <td>Monday</td>\n",
              "      <td>Monday</td>\n",
              "      <td>Saturday</td>\n",
              "      <td>Tuesday</td>\n",
              "    </tr>\n",
              "  </tbody>\n",
              "</table>\n",
              "</div>\n",
              "      <button class=\"colab-df-convert\" onclick=\"convertToInteractive('df-867098c0-53d1-4483-b556-ab521184a42b')\"\n",
              "              title=\"Convert this dataframe to an interactive table.\"\n",
              "              style=\"display:none;\">\n",
              "        \n",
              "  <svg xmlns=\"http://www.w3.org/2000/svg\" height=\"24px\"viewBox=\"0 0 24 24\"\n",
              "       width=\"24px\">\n",
              "    <path d=\"M0 0h24v24H0V0z\" fill=\"none\"/>\n",
              "    <path d=\"M18.56 5.44l.94 2.06.94-2.06 2.06-.94-2.06-.94-.94-2.06-.94 2.06-2.06.94zm-11 1L8.5 8.5l.94-2.06 2.06-.94-2.06-.94L8.5 2.5l-.94 2.06-2.06.94zm10 10l.94 2.06.94-2.06 2.06-.94-2.06-.94-.94-2.06-.94 2.06-2.06.94z\"/><path d=\"M17.41 7.96l-1.37-1.37c-.4-.4-.92-.59-1.43-.59-.52 0-1.04.2-1.43.59L10.3 9.45l-7.72 7.72c-.78.78-.78 2.05 0 2.83L4 21.41c.39.39.9.59 1.41.59.51 0 1.02-.2 1.41-.59l7.78-7.78 2.81-2.81c.8-.78.8-2.07 0-2.86zM5.41 20L4 18.59l7.72-7.72 1.47 1.35L5.41 20z\"/>\n",
              "  </svg>\n",
              "      </button>\n",
              "      \n",
              "  <style>\n",
              "    .colab-df-container {\n",
              "      display:flex;\n",
              "      flex-wrap:wrap;\n",
              "      gap: 12px;\n",
              "    }\n",
              "\n",
              "    .colab-df-convert {\n",
              "      background-color: #E8F0FE;\n",
              "      border: none;\n",
              "      border-radius: 50%;\n",
              "      cursor: pointer;\n",
              "      display: none;\n",
              "      fill: #1967D2;\n",
              "      height: 32px;\n",
              "      padding: 0 0 0 0;\n",
              "      width: 32px;\n",
              "    }\n",
              "\n",
              "    .colab-df-convert:hover {\n",
              "      background-color: #E2EBFA;\n",
              "      box-shadow: 0px 1px 2px rgba(60, 64, 67, 0.3), 0px 1px 3px 1px rgba(60, 64, 67, 0.15);\n",
              "      fill: #174EA6;\n",
              "    }\n",
              "\n",
              "    [theme=dark] .colab-df-convert {\n",
              "      background-color: #3B4455;\n",
              "      fill: #D2E3FC;\n",
              "    }\n",
              "\n",
              "    [theme=dark] .colab-df-convert:hover {\n",
              "      background-color: #434B5C;\n",
              "      box-shadow: 0px 1px 3px 1px rgba(0, 0, 0, 0.15);\n",
              "      filter: drop-shadow(0px 1px 2px rgba(0, 0, 0, 0.3));\n",
              "      fill: #FFFFFF;\n",
              "    }\n",
              "  </style>\n",
              "\n",
              "      <script>\n",
              "        const buttonEl =\n",
              "          document.querySelector('#df-867098c0-53d1-4483-b556-ab521184a42b button.colab-df-convert');\n",
              "        buttonEl.style.display =\n",
              "          google.colab.kernel.accessAllowed ? 'block' : 'none';\n",
              "\n",
              "        async function convertToInteractive(key) {\n",
              "          const element = document.querySelector('#df-867098c0-53d1-4483-b556-ab521184a42b');\n",
              "          const dataTable =\n",
              "            await google.colab.kernel.invokeFunction('convertToInteractive',\n",
              "                                                     [key], {});\n",
              "          if (!dataTable) return;\n",
              "\n",
              "          const docLinkHtml = 'Like what you see? Visit the ' +\n",
              "            '<a target=\"_blank\" href=https://colab.research.google.com/notebooks/data_table.ipynb>data table notebook</a>'\n",
              "            + ' to learn more about interactive tables.';\n",
              "          element.innerHTML = '';\n",
              "          dataTable['output_type'] = 'display_data';\n",
              "          await google.colab.output.renderOutput(dataTable, element);\n",
              "          const docLink = document.createElement('div');\n",
              "          docLink.innerHTML = docLinkHtml;\n",
              "          element.appendChild(docLink);\n",
              "        }\n",
              "      </script>\n",
              "    </div>\n",
              "  </div>\n",
              "  "
            ]
          },
          "metadata": {},
          "execution_count": 12
        }
      ]
    },
    {
      "cell_type": "code",
      "source": [
        "#view location.1 distinct\n",
        "df['location.1'].value_counts()"
      ],
      "metadata": {
        "colab": {
          "base_uri": "https://localhost:8080/"
        },
        "id": "l8cf44fQACUX",
        "outputId": "4193c075-b44e-4a41-b9d5-8c507a57874a"
      },
      "execution_count": 13,
      "outputs": [
        {
          "output_type": "execute_result",
          "data": {
            "text/plain": [
              "Other          28\n",
              "Workplace      26\n",
              "School         12\n",
              "workplace       5\n",
              "Religious       5\n",
              "Military        4\n",
              "Other\\n         3\n",
              "religious       1\n",
              "Airport         1\n",
              "\\nWorkplace     1\n",
              "Name: location.1, dtype: int64"
            ]
          },
          "metadata": {},
          "execution_count": 13
        }
      ]
    },
    {
      "cell_type": "code",
      "source": [
        "#replace({'Other\\n':'Other','workplace':'Workplace','\\nWorkplace':'Workplace','religious': 'Religious'})\n",
        "df['location.1'] = df['location.1'].replace({'Other\\n':'Other','workplace':'Workplace','\\nWorkplace':'Workplace','religious': 'Religious'})\n",
        "#confirm replacements\n",
        "df['location.1'].value_counts()"
      ],
      "metadata": {
        "colab": {
          "base_uri": "https://localhost:8080/"
        },
        "id": "MiSVcRci5AWN",
        "outputId": "032a8ec4-f6fc-442b-db1c-9821554bdc46"
      },
      "execution_count": 14,
      "outputs": [
        {
          "output_type": "execute_result",
          "data": {
            "text/plain": [
              "Workplace    32\n",
              "Other        31\n",
              "School       12\n",
              "Religious     6\n",
              "Military      4\n",
              "Airport       1\n",
              "Name: location.1, dtype: int64"
            ]
          },
          "metadata": {},
          "execution_count": 14
        }
      ]
    },
    {
      "cell_type": "code",
      "source": [
        "#rows where age_of_shooter is '-'\n",
        "mask = df['age_of_shooter'] == '-'\n",
        "rows_with_dash = df[mask]\n",
        "print(rows_with_dash)"
      ],
      "metadata": {
        "colab": {
          "base_uri": "https://localhost:8080/"
        },
        "id": "zIa5yfNtrQYi",
        "outputId": "6d0064ca-b1e5-4980-a38a-f3175252dd77"
      },
      "execution_count": 15,
      "outputs": [
        {
          "output_type": "stream",
          "name": "stdout",
          "text": [
            "                                  case                 location       date  \\\n",
            "15   Sacramento County church shooting   Sacramento, California 2022-02-28   \n",
            "24  Jersey City kosher market shooting  Jersey City, New Jersey 2019-12-10   \n",
            "\n",
            "                                              summary  fatalities injured  \\\n",
            "15  \"A man believed to be meeting his three childr...           4       0   \n",
            "24  David N. Anderson, 47, and Francine Graham, 50...           4       3   \n",
            "\n",
            "   total_victims location.1 age_of_shooter prior_signs_mental_health_issues  \\\n",
            "15             4  Religious              -                                -   \n",
            "24             7      Other              -                                -   \n",
            "\n",
            "    ...   race         gender     latitude     longitude   type  year  \\\n",
            "15  ...      -              M  38.60111019  -121.4189659   Mass  2022   \n",
            "24  ...  Black  Male & Female    40.707363    -74.083609  Spree  2019   \n",
            "\n",
            "           City        State month_name day_of_week  \n",
            "15   Sacramento   California   February      Monday  \n",
            "24  Jersey City   New Jersey   December     Tuesday  \n",
            "\n",
            "[2 rows x 25 columns]\n"
          ]
        }
      ]
    },
    {
      "cell_type": "code",
      "source": [
        "#replacing '-' in age_of_shooter column\n",
        "#row 24 contains '-' as the age of shooter. the shooter ages can be found in the summary (47/50)\n",
        "#will replace age with average age 49 of both shooters(to fall in the 35-54 age range)\n",
        "#no age in summary for row 15, will replace '-' with 0\n",
        "df.loc[24, 'age_of_shooter'] = 49\n",
        "df.loc[15, 'age_of_shooter'] = 0\n",
        "#confirming age of shooter replacements\n",
        "selected_rows = df.loc[[15, 24], ['age_of_shooter']]\n",
        "print(selected_rows)"
      ],
      "metadata": {
        "colab": {
          "base_uri": "https://localhost:8080/"
        },
        "id": "rrxvWtkuwxOd",
        "outputId": "b5338521-fc6c-4b81-df5d-f606e4574acf"
      },
      "execution_count": 16,
      "outputs": [
        {
          "output_type": "stream",
          "name": "stdout",
          "text": [
            "   age_of_shooter\n",
            "15              0\n",
            "24             49\n"
          ]
        }
      ]
    },
    {
      "cell_type": "code",
      "source": [
        "#change age_of_shooter Dtype from object to integer\n",
        "df['age_of_shooter'] = df['age_of_shooter'].astype(int)\n",
        "#confirm Dtype change\n",
        "D_type = df['age_of_shooter'].dtypes\n",
        "print(D_type)"
      ],
      "metadata": {
        "colab": {
          "base_uri": "https://localhost:8080/"
        },
        "id": "Fr5ecWqQ_pmz",
        "outputId": "22b9db44-d5af-41cb-a05d-10a0bd9019b7"
      },
      "execution_count": 17,
      "outputs": [
        {
          "output_type": "stream",
          "name": "stdout",
          "text": [
            "int64\n"
          ]
        }
      ]
    },
    {
      "cell_type": "code",
      "source": [
        "#put the ages in bins and create new column - age_group\n",
        "# Define the age ranges and labels\n",
        "df['age_of_shooter'] = df['age_of_shooter'].replace({\n",
        "    '-': 0\n",
        "})\n",
        "df['age_of_shooter'] = df['age_of_shooter'].astype(int)\n",
        "age_ranges = [0, 10, 18, 39, 59, 120]\n",
        "age_labels = ['Unknown', 'Teenage', 'Early Adulthood', 'Middle Adulthood', 'Old Age']\n",
        "\n",
        "# Use the cut() function to categorize the age groups\n",
        "df['age_group'] = pd.cut(df['age_of_shooter'], bins=age_ranges, labels=age_labels)\n",
        "df['age_group'].value_counts()"
      ],
      "metadata": {
        "colab": {
          "base_uri": "https://localhost:8080/"
        },
        "id": "SPfVTFlCbiI1",
        "outputId": "4110422e-6a23-41e3-e4a6-f1d710fe9c0f"
      },
      "execution_count": 18,
      "outputs": [
        {
          "output_type": "execute_result",
          "data": {
            "text/plain": [
              "Early Adulthood     52\n",
              "Middle Adulthood    22\n",
              "Teenage              6\n",
              "Old Age              5\n",
              "Unknown              0\n",
              "Name: age_group, dtype: int64"
            ]
          },
          "metadata": {},
          "execution_count": 18
        }
      ]
    },
    {
      "cell_type": "code",
      "source": [
        "#view distinct prior_signs_mental_health_issues\n",
        "df['prior_signs_mental_health_issues'].value_counts()"
      ],
      "metadata": {
        "colab": {
          "base_uri": "https://localhost:8080/"
        },
        "id": "Zt11RgTQNIJj",
        "outputId": "9e210f3f-3116-48fa-f9d7-1189c1e40093"
      },
      "execution_count": 19,
      "outputs": [
        {
          "output_type": "execute_result",
          "data": {
            "text/plain": [
              "-          28\n",
              "Yes        24\n",
              "Unclear    18\n",
              "yes         8\n",
              "TBD         5\n",
              "No          2\n",
              "Unknown     1\n",
              "Name: prior_signs_mental_health_issues, dtype: int64"
            ]
          },
          "metadata": {},
          "execution_count": 19
        }
      ]
    },
    {
      "cell_type": "code",
      "source": [
        "#summarise to Yes, No, TBD and Unclear\n",
        "df['prior_signs_mental_health_issues']=df['prior_signs_mental_health_issues'].replace({\n",
        "    'yes':'Yes',\n",
        "    '-': 'Unknown',\n",
        "    'Unclear':'Unknown',\n",
        "    \"Unclear\":'Unknown'\n",
        "})\n",
        "#confirm replacements\n",
        "df['prior_signs_mental_health_issues'].value_counts()"
      ],
      "metadata": {
        "colab": {
          "base_uri": "https://localhost:8080/"
        },
        "id": "eGTbE_XeNsPE",
        "outputId": "c084870a-3c18-4fbd-beab-0e76590c4798"
      },
      "execution_count": 20,
      "outputs": [
        {
          "output_type": "execute_result",
          "data": {
            "text/plain": [
              "Unknown    47\n",
              "Yes        32\n",
              "TBD         5\n",
              "No          2\n",
              "Name: prior_signs_mental_health_issues, dtype: int64"
            ]
          },
          "metadata": {},
          "execution_count": 20
        }
      ]
    },
    {
      "cell_type": "code",
      "source": [
        "# view weapons_obtained_legally distinct\n",
        "df['weapons_obtained_legally'].value_counts()"
      ],
      "metadata": {
        "colab": {
          "base_uri": "https://localhost:8080/"
        },
        "id": "tPiMCUGlTkMq",
        "outputId": "ec15bb5c-a992-4d45-fc15-2004f2a65324"
      },
      "execution_count": 21,
      "outputs": [
        {
          "output_type": "execute_result",
          "data": {
            "text/plain": [
              "Yes                                                                                                                                    38\n",
              "-                                                                                                                                      17\n",
              "yes                                                                                                                                     9\n",
              "TBD                                                                                                                                     7\n",
              "No                                                                                                                                      6\n",
              "Unknown                                                                                                                                 4\n",
              "\\nYes                                                                                                                                   2\n",
              "Kelley passed federal criminal background checks; the US Air Force failed to provide information on his criminal history to the FBI     1\n",
              "Yes (\"some of the weapons were purchased legally and some of them may not have been\")                                                   1\n",
              "Yes                                                                                                                                     1\n",
              "Name: weapons_obtained_legally, dtype: int64"
            ]
          },
          "metadata": {},
          "execution_count": 21
        }
      ]
    },
    {
      "cell_type": "code",
      "source": [
        "#summarise to Yes, No, TBD and Unclear\n",
        "df[\"weapons_obtained_legally\"] = df[\"weapons_obtained_legally\"].replace({\"-\": \"Unknown\", \"yes\": \"Yes\", \"\\nYes\": \"Yes\",\n",
        "                                                                         \"Kelley passed federal criminal background checks; the US Air Force failed to provide information on his criminal history to the FBI\": \"Yes\",\n",
        "                                                                         'Yes (\"some of the weapons were purchased legally and some of them may not have been\")': \"Yes\", \"Yes \": \"Yes\"})\n",
        "#confirm replacements\n",
        "df[\"weapons_obtained_legally\"].value_counts()"
      ],
      "metadata": {
        "colab": {
          "base_uri": "https://localhost:8080/"
        },
        "id": "wox_7_2rU_kp",
        "outputId": "1dceb3a2-faff-4896-d81b-688674ba0ed3"
      },
      "execution_count": 22,
      "outputs": [
        {
          "output_type": "execute_result",
          "data": {
            "text/plain": [
              "Yes        52\n",
              "Unknown    21\n",
              "TBD         7\n",
              "No          6\n",
              "Name: weapons_obtained_legally, dtype: int64"
            ]
          },
          "metadata": {},
          "execution_count": 22
        }
      ]
    },
    {
      "cell_type": "code",
      "source": [
        "#view race distict\n",
        "df.race.value_counts()"
      ],
      "metadata": {
        "colab": {
          "base_uri": "https://localhost:8080/"
        },
        "id": "sQhbJRhp_bv4",
        "outputId": "5f81fc74-eaef-4683-e665-5821d2ff1ed5"
      },
      "execution_count": 23,
      "outputs": [
        {
          "output_type": "execute_result",
          "data": {
            "text/plain": [
              "White              31\n",
              "Black              16\n",
              "-                  13\n",
              "Latino              8\n",
              "Asian               6\n",
              "white               5\n",
              "Other               4\n",
              "Native American     2\n",
              "White               1\n",
              "Name: race, dtype: int64"
            ]
          },
          "metadata": {},
          "execution_count": 23
        }
      ]
    },
    {
      "cell_type": "code",
      "source": [
        "#summarize race to White, Black,Unclear\n",
        "df['race'] = df['race'].replace({\n",
        "    'white': 'White',\n",
        "    'black': 'Black',\n",
        "    'White ': 'White',\n",
        "    '-': 'Unclear',\n",
        "    'unclear': 'Unclear'\n",
        "})\n",
        "#confirm replacements\n",
        "df['race'].value_counts()"
      ],
      "metadata": {
        "colab": {
          "base_uri": "https://localhost:8080/"
        },
        "id": "bfe3DRJrWjOV",
        "outputId": "15d53350-f880-44ce-e34b-7f02f05d2acc"
      },
      "execution_count": 24,
      "outputs": [
        {
          "output_type": "execute_result",
          "data": {
            "text/plain": [
              "White              37\n",
              "Black              16\n",
              "Unclear            13\n",
              "Latino              8\n",
              "Asian               6\n",
              "Other               4\n",
              "Native American     2\n",
              "Name: race, dtype: int64"
            ]
          },
          "metadata": {},
          "execution_count": 24
        }
      ]
    },
    {
      "cell_type": "code",
      "source": [
        "#view gender distinct\n",
        "df.gender.value_counts()"
      ],
      "metadata": {
        "colab": {
          "base_uri": "https://localhost:8080/"
        },
        "id": "3SgMdn9UCYIK",
        "outputId": "f0df5b95-8a55-4e70-b4ee-49bf6c0ba98b"
      },
      "execution_count": 25,
      "outputs": [
        {
          "output_type": "execute_result",
          "data": {
            "text/plain": [
              "M                                            65\n",
              "Male                                         16\n",
              "Male & Female                                 2\n",
              "F (identified as transgender, per police)     1\n",
              "F                                             1\n",
              "Female                                        1\n",
              "Name: gender, dtype: int64"
            ]
          },
          "metadata": {},
          "execution_count": 25
        }
      ]
    },
    {
      "cell_type": "code",
      "source": [
        "# sumaarize gender to Male, Female,Male & Female,Male & Female \n",
        "df['gender'] = df['gender'].replace({'M': 'Male', 'F': 'Female', 'F (identified as transgender, per police)': \"Female (transgender)\"})\n",
        "#view replacements\n",
        "df['gender'].value_counts()"
      ],
      "metadata": {
        "id": "dYThgeVACayY",
        "colab": {
          "base_uri": "https://localhost:8080/"
        },
        "outputId": "377c90c5-a80d-44cf-cdad-b336f1a168ca"
      },
      "execution_count": 26,
      "outputs": [
        {
          "output_type": "execute_result",
          "data": {
            "text/plain": [
              "Male                    81\n",
              "Male & Female            2\n",
              "Female                   2\n",
              "Female (transgender)     1\n",
              "Name: gender, dtype: int64"
            ]
          },
          "metadata": {},
          "execution_count": 26
        }
      ]
    },
    {
      "cell_type": "code",
      "source": [
        "#view type distinct\n",
        "df.type.value_counts()"
      ],
      "metadata": {
        "colab": {
          "base_uri": "https://localhost:8080/"
        },
        "id": "rhi9SlYNanSR",
        "outputId": "cf3c1222-c50d-42d6-a7de-94e0c3dd6830"
      },
      "execution_count": 27,
      "outputs": [
        {
          "output_type": "execute_result",
          "data": {
            "text/plain": [
              "Mass     75\n",
              "Spree    11\n",
              "Name: type, dtype: int64"
            ]
          },
          "metadata": {},
          "execution_count": 27
        }
      ]
    },
    {
      "cell_type": "code",
      "source": [
        "#validate\n",
        "df.info()"
      ],
      "metadata": {
        "colab": {
          "base_uri": "https://localhost:8080/"
        },
        "id": "hErVPWU6cWI-",
        "outputId": "e8a7ed01-9883-4097-bd9b-24bc99e1a072"
      },
      "execution_count": 28,
      "outputs": [
        {
          "output_type": "stream",
          "name": "stdout",
          "text": [
            "<class 'pandas.core.frame.DataFrame'>\n",
            "Int64Index: 86 entries, 0 to 85\n",
            "Data columns (total 26 columns):\n",
            " #   Column                            Non-Null Count  Dtype         \n",
            "---  ------                            --------------  -----         \n",
            " 0   case                              86 non-null     object        \n",
            " 1   location                          86 non-null     object        \n",
            " 2   date                              86 non-null     datetime64[ns]\n",
            " 3   summary                           86 non-null     object        \n",
            " 4   fatalities                        86 non-null     int64         \n",
            " 5   injured                           86 non-null     object        \n",
            " 6   total_victims                     86 non-null     object        \n",
            " 7   location.1                        86 non-null     object        \n",
            " 8   age_of_shooter                    86 non-null     int64         \n",
            " 9   prior_signs_mental_health_issues  86 non-null     object        \n",
            " 10  mental_health_details             86 non-null     object        \n",
            " 11  weapons_obtained_legally          86 non-null     object        \n",
            " 12  where_obtained                    86 non-null     object        \n",
            " 13  weapon_type                       86 non-null     object        \n",
            " 14  weapon_details                    85 non-null     object        \n",
            " 15  race                              86 non-null     object        \n",
            " 16  gender                            86 non-null     object        \n",
            " 17  latitude                          86 non-null     object        \n",
            " 18  longitude                         86 non-null     object        \n",
            " 19  type                              86 non-null     object        \n",
            " 20  year                              86 non-null     int64         \n",
            " 21  City                              86 non-null     object        \n",
            " 22  State                             86 non-null     object        \n",
            " 23  month_name                        86 non-null     object        \n",
            " 24  day_of_week                       86 non-null     object        \n",
            " 25  age_group                         85 non-null     category      \n",
            "dtypes: category(1), datetime64[ns](1), int64(3), object(21)\n",
            "memory usage: 19.8+ KB\n"
          ]
        }
      ]
    },
    {
      "cell_type": "code",
      "source": [
        "df.head().T"
      ],
      "metadata": {
        "colab": {
          "base_uri": "https://localhost:8080/",
          "height": 978
        },
        "id": "75fVhThUcrLg",
        "outputId": "82464ac9-f62d-44a6-b563-47ac48f51269"
      },
      "execution_count": 29,
      "outputs": [
        {
          "output_type": "execute_result",
          "data": {
            "text/plain": [
              "                                                                                  0  \\\n",
              "case                                            Nashville religious school shooting   \n",
              "location                                                              Nashville, TN   \n",
              "date                                                            2023-03-27 00:00:00   \n",
              "summary                           Audrey Hale, 28, who was a former student at t...   \n",
              "fatalities                                                                        6   \n",
              "injured                                                                           1   \n",
              "total_victims                                                                     6   \n",
              "location.1                                                                   School   \n",
              "age_of_shooter                                                                   28   \n",
              "prior_signs_mental_health_issues                                            Unknown   \n",
              "mental_health_details                                                             -   \n",
              "weapons_obtained_legally                                                    Unknown   \n",
              "where_obtained                                                                    -   \n",
              "weapon_type                              semiautomatic rifle, semiautomatic handgun   \n",
              "weapon_details                                                                    -   \n",
              "race                                                                        Unclear   \n",
              "gender                                                         Female (transgender)   \n",
              "latitude                                                                          -   \n",
              "longitude                                                                         -   \n",
              "type                                                                           Mass   \n",
              "year                                                                           2023   \n",
              "City                                                                      Nashville   \n",
              "State                                                                            TN   \n",
              "month_name                                                                    March   \n",
              "day_of_week                                                                  Monday   \n",
              "age_group                                                           Early Adulthood   \n",
              "\n",
              "                                                                                  1  \\\n",
              "case                                             Michigan State University shooting   \n",
              "location                                                     East Lansing, Michigan   \n",
              "date                                                            2023-02-13 00:00:00   \n",
              "summary                           Anthony D. McRae, 43, opened fire at Berkey Ha...   \n",
              "fatalities                                                                        3   \n",
              "injured                                                                           5   \n",
              "total_victims                                                                     8   \n",
              "location.1                                                                   School   \n",
              "age_of_shooter                                                                   43   \n",
              "prior_signs_mental_health_issues                                            Unknown   \n",
              "mental_health_details                                                             -   \n",
              "weapons_obtained_legally                                                        Yes   \n",
              "where_obtained                                                                    -   \n",
              "weapon_type                                                  semiautomatic handguns   \n",
              "weapon_details                                                                    -   \n",
              "race                                                                          Black   \n",
              "gender                                                                         Male   \n",
              "latitude                                                                          -   \n",
              "longitude                                                                         -   \n",
              "type                                                                           Mass   \n",
              "year                                                                           2023   \n",
              "City                                                                   East Lansing   \n",
              "State                                                                      Michigan   \n",
              "month_name                                                                 February   \n",
              "day_of_week                                                                  Monday   \n",
              "age_group                                                          Middle Adulthood   \n",
              "\n",
              "                                                                                  2  \\\n",
              "case                                                   Half Moon Bay spree shooting   \n",
              "location                                                  Half Moon Bay, California   \n",
              "date                                                            2023-01-23 00:00:00   \n",
              "summary                           Chunli Zhao, 67, suspected of carrying out the...   \n",
              "fatalities                                                                        7   \n",
              "injured                                                                           1   \n",
              "total_victims                                                                     8   \n",
              "location.1                                                                Workplace   \n",
              "age_of_shooter                                                                   67   \n",
              "prior_signs_mental_health_issues                                            Unknown   \n",
              "mental_health_details                                                             -   \n",
              "weapons_obtained_legally                                                    Unknown   \n",
              "where_obtained                                                                    -   \n",
              "weapon_type                                                   semiautomatic handgun   \n",
              "weapon_details                                                                    -   \n",
              "race                                                                          Asian   \n",
              "gender                                                                         Male   \n",
              "latitude                                                                          -   \n",
              "longitude                                                                         -   \n",
              "type                                                                          Spree   \n",
              "year                                                                           2023   \n",
              "City                                                                  Half Moon Bay   \n",
              "State                                                                    California   \n",
              "month_name                                                                  January   \n",
              "day_of_week                                                                  Monday   \n",
              "age_group                                                                   Old Age   \n",
              "\n",
              "                                                                                  3  \\\n",
              "case                                                  LA dance studio mass shooting   \n",
              "location                                                  Monterey Park, California   \n",
              "date                                                            2023-01-21 00:00:00   \n",
              "summary                           Huu Can Tran, 72, fled the scene in a white va...   \n",
              "fatalities                                                                       11   \n",
              "injured                                                                          10   \n",
              "total_victims                                                                    21   \n",
              "location.1                                                                    Other   \n",
              "age_of_shooter                                                                   72   \n",
              "prior_signs_mental_health_issues                                                Yes   \n",
              "mental_health_details             According to the LA Times, \"Two law enforcemen...   \n",
              "weapons_obtained_legally                                                    Unknown   \n",
              "where_obtained                                                                    -   \n",
              "weapon_type                          semiautomatic assault weapon (Details pending)   \n",
              "weapon_details                                                                    -   \n",
              "race                                                                          Asian   \n",
              "gender                                                                         Male   \n",
              "latitude                                                                          -   \n",
              "longitude                                                                         -   \n",
              "type                                                                           Mass   \n",
              "year                                                                           2023   \n",
              "City                                                                  Monterey Park   \n",
              "State                                                                    California   \n",
              "month_name                                                                  January   \n",
              "day_of_week                                                                Saturday   \n",
              "age_group                                                                   Old Age   \n",
              "\n",
              "                                                                                  4  \n",
              "case                                                      Virginia Walmart shooting  \n",
              "location                                                       Chesapeake, Virginia  \n",
              "date                                                            2022-11-22 00:00:00  \n",
              "summary                           Andre Bing, 31, who worked as a supervisor at ...  \n",
              "fatalities                                                                        6  \n",
              "injured                                                                           6  \n",
              "total_victims                                                                    12  \n",
              "location.1                                                                Workplace  \n",
              "age_of_shooter                                                                   31  \n",
              "prior_signs_mental_health_issues                                            Unknown  \n",
              "mental_health_details                                                             -  \n",
              "weapons_obtained_legally                                                    Unknown  \n",
              "where_obtained                                                                    -  \n",
              "weapon_type                                                   semiautomatic handgun  \n",
              "weapon_details                                                                    -  \n",
              "race                                                                          Black  \n",
              "gender                                                                         Male  \n",
              "latitude                                                                          -  \n",
              "longitude                                                                         -  \n",
              "type                                                                           Mass  \n",
              "year                                                                           2022  \n",
              "City                                                                     Chesapeake  \n",
              "State                                                                      Virginia  \n",
              "month_name                                                                 November  \n",
              "day_of_week                                                                 Tuesday  \n",
              "age_group                                                           Early Adulthood  "
            ],
            "text/html": [
              "\n",
              "  <div id=\"df-e8f4a84a-674d-488d-96d1-79f9b796712e\">\n",
              "    <div class=\"colab-df-container\">\n",
              "      <div>\n",
              "<style scoped>\n",
              "    .dataframe tbody tr th:only-of-type {\n",
              "        vertical-align: middle;\n",
              "    }\n",
              "\n",
              "    .dataframe tbody tr th {\n",
              "        vertical-align: top;\n",
              "    }\n",
              "\n",
              "    .dataframe thead th {\n",
              "        text-align: right;\n",
              "    }\n",
              "</style>\n",
              "<table border=\"1\" class=\"dataframe\">\n",
              "  <thead>\n",
              "    <tr style=\"text-align: right;\">\n",
              "      <th></th>\n",
              "      <th>0</th>\n",
              "      <th>1</th>\n",
              "      <th>2</th>\n",
              "      <th>3</th>\n",
              "      <th>4</th>\n",
              "    </tr>\n",
              "  </thead>\n",
              "  <tbody>\n",
              "    <tr>\n",
              "      <th>case</th>\n",
              "      <td>Nashville religious school shooting</td>\n",
              "      <td>Michigan State University shooting</td>\n",
              "      <td>Half Moon Bay spree shooting</td>\n",
              "      <td>LA dance studio mass shooting</td>\n",
              "      <td>Virginia Walmart shooting</td>\n",
              "    </tr>\n",
              "    <tr>\n",
              "      <th>location</th>\n",
              "      <td>Nashville, TN</td>\n",
              "      <td>East Lansing, Michigan</td>\n",
              "      <td>Half Moon Bay, California</td>\n",
              "      <td>Monterey Park, California</td>\n",
              "      <td>Chesapeake, Virginia</td>\n",
              "    </tr>\n",
              "    <tr>\n",
              "      <th>date</th>\n",
              "      <td>2023-03-27 00:00:00</td>\n",
              "      <td>2023-02-13 00:00:00</td>\n",
              "      <td>2023-01-23 00:00:00</td>\n",
              "      <td>2023-01-21 00:00:00</td>\n",
              "      <td>2022-11-22 00:00:00</td>\n",
              "    </tr>\n",
              "    <tr>\n",
              "      <th>summary</th>\n",
              "      <td>Audrey Hale, 28, who was a former student at t...</td>\n",
              "      <td>Anthony D. McRae, 43, opened fire at Berkey Ha...</td>\n",
              "      <td>Chunli Zhao, 67, suspected of carrying out the...</td>\n",
              "      <td>Huu Can Tran, 72, fled the scene in a white va...</td>\n",
              "      <td>Andre Bing, 31, who worked as a supervisor at ...</td>\n",
              "    </tr>\n",
              "    <tr>\n",
              "      <th>fatalities</th>\n",
              "      <td>6</td>\n",
              "      <td>3</td>\n",
              "      <td>7</td>\n",
              "      <td>11</td>\n",
              "      <td>6</td>\n",
              "    </tr>\n",
              "    <tr>\n",
              "      <th>injured</th>\n",
              "      <td>1</td>\n",
              "      <td>5</td>\n",
              "      <td>1</td>\n",
              "      <td>10</td>\n",
              "      <td>6</td>\n",
              "    </tr>\n",
              "    <tr>\n",
              "      <th>total_victims</th>\n",
              "      <td>6</td>\n",
              "      <td>8</td>\n",
              "      <td>8</td>\n",
              "      <td>21</td>\n",
              "      <td>12</td>\n",
              "    </tr>\n",
              "    <tr>\n",
              "      <th>location.1</th>\n",
              "      <td>School</td>\n",
              "      <td>School</td>\n",
              "      <td>Workplace</td>\n",
              "      <td>Other</td>\n",
              "      <td>Workplace</td>\n",
              "    </tr>\n",
              "    <tr>\n",
              "      <th>age_of_shooter</th>\n",
              "      <td>28</td>\n",
              "      <td>43</td>\n",
              "      <td>67</td>\n",
              "      <td>72</td>\n",
              "      <td>31</td>\n",
              "    </tr>\n",
              "    <tr>\n",
              "      <th>prior_signs_mental_health_issues</th>\n",
              "      <td>Unknown</td>\n",
              "      <td>Unknown</td>\n",
              "      <td>Unknown</td>\n",
              "      <td>Yes</td>\n",
              "      <td>Unknown</td>\n",
              "    </tr>\n",
              "    <tr>\n",
              "      <th>mental_health_details</th>\n",
              "      <td>-</td>\n",
              "      <td>-</td>\n",
              "      <td>-</td>\n",
              "      <td>According to the LA Times, \"Two law enforcemen...</td>\n",
              "      <td>-</td>\n",
              "    </tr>\n",
              "    <tr>\n",
              "      <th>weapons_obtained_legally</th>\n",
              "      <td>Unknown</td>\n",
              "      <td>Yes</td>\n",
              "      <td>Unknown</td>\n",
              "      <td>Unknown</td>\n",
              "      <td>Unknown</td>\n",
              "    </tr>\n",
              "    <tr>\n",
              "      <th>where_obtained</th>\n",
              "      <td>-</td>\n",
              "      <td>-</td>\n",
              "      <td>-</td>\n",
              "      <td>-</td>\n",
              "      <td>-</td>\n",
              "    </tr>\n",
              "    <tr>\n",
              "      <th>weapon_type</th>\n",
              "      <td>semiautomatic rifle, semiautomatic handgun</td>\n",
              "      <td>semiautomatic handguns</td>\n",
              "      <td>semiautomatic handgun</td>\n",
              "      <td>semiautomatic assault weapon (Details pending)</td>\n",
              "      <td>semiautomatic handgun</td>\n",
              "    </tr>\n",
              "    <tr>\n",
              "      <th>weapon_details</th>\n",
              "      <td>-</td>\n",
              "      <td>-</td>\n",
              "      <td>-</td>\n",
              "      <td>-</td>\n",
              "      <td>-</td>\n",
              "    </tr>\n",
              "    <tr>\n",
              "      <th>race</th>\n",
              "      <td>Unclear</td>\n",
              "      <td>Black</td>\n",
              "      <td>Asian</td>\n",
              "      <td>Asian</td>\n",
              "      <td>Black</td>\n",
              "    </tr>\n",
              "    <tr>\n",
              "      <th>gender</th>\n",
              "      <td>Female (transgender)</td>\n",
              "      <td>Male</td>\n",
              "      <td>Male</td>\n",
              "      <td>Male</td>\n",
              "      <td>Male</td>\n",
              "    </tr>\n",
              "    <tr>\n",
              "      <th>latitude</th>\n",
              "      <td>-</td>\n",
              "      <td>-</td>\n",
              "      <td>-</td>\n",
              "      <td>-</td>\n",
              "      <td>-</td>\n",
              "    </tr>\n",
              "    <tr>\n",
              "      <th>longitude</th>\n",
              "      <td>-</td>\n",
              "      <td>-</td>\n",
              "      <td>-</td>\n",
              "      <td>-</td>\n",
              "      <td>-</td>\n",
              "    </tr>\n",
              "    <tr>\n",
              "      <th>type</th>\n",
              "      <td>Mass</td>\n",
              "      <td>Mass</td>\n",
              "      <td>Spree</td>\n",
              "      <td>Mass</td>\n",
              "      <td>Mass</td>\n",
              "    </tr>\n",
              "    <tr>\n",
              "      <th>year</th>\n",
              "      <td>2023</td>\n",
              "      <td>2023</td>\n",
              "      <td>2023</td>\n",
              "      <td>2023</td>\n",
              "      <td>2022</td>\n",
              "    </tr>\n",
              "    <tr>\n",
              "      <th>City</th>\n",
              "      <td>Nashville</td>\n",
              "      <td>East Lansing</td>\n",
              "      <td>Half Moon Bay</td>\n",
              "      <td>Monterey Park</td>\n",
              "      <td>Chesapeake</td>\n",
              "    </tr>\n",
              "    <tr>\n",
              "      <th>State</th>\n",
              "      <td>TN</td>\n",
              "      <td>Michigan</td>\n",
              "      <td>California</td>\n",
              "      <td>California</td>\n",
              "      <td>Virginia</td>\n",
              "    </tr>\n",
              "    <tr>\n",
              "      <th>month_name</th>\n",
              "      <td>March</td>\n",
              "      <td>February</td>\n",
              "      <td>January</td>\n",
              "      <td>January</td>\n",
              "      <td>November</td>\n",
              "    </tr>\n",
              "    <tr>\n",
              "      <th>day_of_week</th>\n",
              "      <td>Monday</td>\n",
              "      <td>Monday</td>\n",
              "      <td>Monday</td>\n",
              "      <td>Saturday</td>\n",
              "      <td>Tuesday</td>\n",
              "    </tr>\n",
              "    <tr>\n",
              "      <th>age_group</th>\n",
              "      <td>Early Adulthood</td>\n",
              "      <td>Middle Adulthood</td>\n",
              "      <td>Old Age</td>\n",
              "      <td>Old Age</td>\n",
              "      <td>Early Adulthood</td>\n",
              "    </tr>\n",
              "  </tbody>\n",
              "</table>\n",
              "</div>\n",
              "      <button class=\"colab-df-convert\" onclick=\"convertToInteractive('df-e8f4a84a-674d-488d-96d1-79f9b796712e')\"\n",
              "              title=\"Convert this dataframe to an interactive table.\"\n",
              "              style=\"display:none;\">\n",
              "        \n",
              "  <svg xmlns=\"http://www.w3.org/2000/svg\" height=\"24px\"viewBox=\"0 0 24 24\"\n",
              "       width=\"24px\">\n",
              "    <path d=\"M0 0h24v24H0V0z\" fill=\"none\"/>\n",
              "    <path d=\"M18.56 5.44l.94 2.06.94-2.06 2.06-.94-2.06-.94-.94-2.06-.94 2.06-2.06.94zm-11 1L8.5 8.5l.94-2.06 2.06-.94-2.06-.94L8.5 2.5l-.94 2.06-2.06.94zm10 10l.94 2.06.94-2.06 2.06-.94-2.06-.94-.94-2.06-.94 2.06-2.06.94z\"/><path d=\"M17.41 7.96l-1.37-1.37c-.4-.4-.92-.59-1.43-.59-.52 0-1.04.2-1.43.59L10.3 9.45l-7.72 7.72c-.78.78-.78 2.05 0 2.83L4 21.41c.39.39.9.59 1.41.59.51 0 1.02-.2 1.41-.59l7.78-7.78 2.81-2.81c.8-.78.8-2.07 0-2.86zM5.41 20L4 18.59l7.72-7.72 1.47 1.35L5.41 20z\"/>\n",
              "  </svg>\n",
              "      </button>\n",
              "      \n",
              "  <style>\n",
              "    .colab-df-container {\n",
              "      display:flex;\n",
              "      flex-wrap:wrap;\n",
              "      gap: 12px;\n",
              "    }\n",
              "\n",
              "    .colab-df-convert {\n",
              "      background-color: #E8F0FE;\n",
              "      border: none;\n",
              "      border-radius: 50%;\n",
              "      cursor: pointer;\n",
              "      display: none;\n",
              "      fill: #1967D2;\n",
              "      height: 32px;\n",
              "      padding: 0 0 0 0;\n",
              "      width: 32px;\n",
              "    }\n",
              "\n",
              "    .colab-df-convert:hover {\n",
              "      background-color: #E2EBFA;\n",
              "      box-shadow: 0px 1px 2px rgba(60, 64, 67, 0.3), 0px 1px 3px 1px rgba(60, 64, 67, 0.15);\n",
              "      fill: #174EA6;\n",
              "    }\n",
              "\n",
              "    [theme=dark] .colab-df-convert {\n",
              "      background-color: #3B4455;\n",
              "      fill: #D2E3FC;\n",
              "    }\n",
              "\n",
              "    [theme=dark] .colab-df-convert:hover {\n",
              "      background-color: #434B5C;\n",
              "      box-shadow: 0px 1px 3px 1px rgba(0, 0, 0, 0.15);\n",
              "      filter: drop-shadow(0px 1px 2px rgba(0, 0, 0, 0.3));\n",
              "      fill: #FFFFFF;\n",
              "    }\n",
              "  </style>\n",
              "\n",
              "      <script>\n",
              "        const buttonEl =\n",
              "          document.querySelector('#df-e8f4a84a-674d-488d-96d1-79f9b796712e button.colab-df-convert');\n",
              "        buttonEl.style.display =\n",
              "          google.colab.kernel.accessAllowed ? 'block' : 'none';\n",
              "\n",
              "        async function convertToInteractive(key) {\n",
              "          const element = document.querySelector('#df-e8f4a84a-674d-488d-96d1-79f9b796712e');\n",
              "          const dataTable =\n",
              "            await google.colab.kernel.invokeFunction('convertToInteractive',\n",
              "                                                     [key], {});\n",
              "          if (!dataTable) return;\n",
              "\n",
              "          const docLinkHtml = 'Like what you see? Visit the ' +\n",
              "            '<a target=\"_blank\" href=https://colab.research.google.com/notebooks/data_table.ipynb>data table notebook</a>'\n",
              "            + ' to learn more about interactive tables.';\n",
              "          element.innerHTML = '';\n",
              "          dataTable['output_type'] = 'display_data';\n",
              "          await google.colab.output.renderOutput(dataTable, element);\n",
              "          const docLink = document.createElement('div');\n",
              "          docLink.innerHTML = docLinkHtml;\n",
              "          element.appendChild(docLink);\n",
              "        }\n",
              "      </script>\n",
              "    </div>\n",
              "  </div>\n",
              "  "
            ]
          },
          "metadata": {},
          "execution_count": 29
        }
      ]
    },
    {
      "cell_type": "markdown",
      "source": [
        "Save cleaned data to CSV"
      ],
      "metadata": {
        "id": "YUmAI_ircGs2"
      }
    },
    {
      "cell_type": "code",
      "source": [
        "df.to_csv('cleaned_shooting-1982-2023.csv', index=False)\n"
      ],
      "metadata": {
        "id": "Fw4_3hb2d10u"
      },
      "execution_count": 30,
      "outputs": []
    },
    {
      "cell_type": "code",
      "source": [
        "df_clean = pd.read_csv(\"cleaned_shooting-1982-2023.csv\", parse_dates=['date'])"
      ],
      "metadata": {
        "id": "Z5aBBDk5fq66"
      },
      "execution_count": 31,
      "outputs": []
    },
    {
      "cell_type": "code",
      "source": [
        "df.info()"
      ],
      "metadata": {
        "colab": {
          "base_uri": "https://localhost:8080/"
        },
        "id": "W2OrfLLSf8VB",
        "outputId": "f1a9ef49-ffc9-4676-af49-ca4d89efdc19"
      },
      "execution_count": 32,
      "outputs": [
        {
          "output_type": "stream",
          "name": "stdout",
          "text": [
            "<class 'pandas.core.frame.DataFrame'>\n",
            "Int64Index: 86 entries, 0 to 85\n",
            "Data columns (total 26 columns):\n",
            " #   Column                            Non-Null Count  Dtype         \n",
            "---  ------                            --------------  -----         \n",
            " 0   case                              86 non-null     object        \n",
            " 1   location                          86 non-null     object        \n",
            " 2   date                              86 non-null     datetime64[ns]\n",
            " 3   summary                           86 non-null     object        \n",
            " 4   fatalities                        86 non-null     int64         \n",
            " 5   injured                           86 non-null     object        \n",
            " 6   total_victims                     86 non-null     object        \n",
            " 7   location.1                        86 non-null     object        \n",
            " 8   age_of_shooter                    86 non-null     int64         \n",
            " 9   prior_signs_mental_health_issues  86 non-null     object        \n",
            " 10  mental_health_details             86 non-null     object        \n",
            " 11  weapons_obtained_legally          86 non-null     object        \n",
            " 12  where_obtained                    86 non-null     object        \n",
            " 13  weapon_type                       86 non-null     object        \n",
            " 14  weapon_details                    85 non-null     object        \n",
            " 15  race                              86 non-null     object        \n",
            " 16  gender                            86 non-null     object        \n",
            " 17  latitude                          86 non-null     object        \n",
            " 18  longitude                         86 non-null     object        \n",
            " 19  type                              86 non-null     object        \n",
            " 20  year                              86 non-null     int64         \n",
            " 21  City                              86 non-null     object        \n",
            " 22  State                             86 non-null     object        \n",
            " 23  month_name                        86 non-null     object        \n",
            " 24  day_of_week                       86 non-null     object        \n",
            " 25  age_group                         85 non-null     category      \n",
            "dtypes: category(1), datetime64[ns](1), int64(3), object(21)\n",
            "memory usage: 19.8+ KB\n"
          ]
        }
      ]
    },
    {
      "cell_type": "markdown",
      "source": [
        "#Gun Violence Analysis"
      ],
      "metadata": {
        "id": "8e_o2FushzVD"
      }
    },
    {
      "cell_type": "markdown",
      "source": [
        "Type of Shooting"
      ],
      "metadata": {
        "id": "EWaMPodedvMu"
      }
    },
    {
      "cell_type": "code",
      "source": [
        "# Filter for years 2012-2022\n",
        "df_years = df[(df['year'] >= 2012) & (df['year'] <= 2022)]\n",
        "\n",
        "# Create a pie chart with percentage labels\n",
        "plt.pie(df_years['type'].value_counts(), \n",
        "        labels=df_years['type'].unique(), autopct='%1.1f%%')\n",
        "plt.title('Type of Shooting 2012-2022')\n",
        "plt.show()"
      ],
      "metadata": {
        "colab": {
          "base_uri": "https://localhost:8080/",
          "height": 428
        },
        "id": "cy4N8vwRezO2",
        "outputId": "78021bdf-eacf-4fc4-b5bd-0c0e65179b27"
      },
      "execution_count": 33,
      "outputs": [
        {
          "output_type": "display_data",
          "data": {
            "text/plain": [
              "<Figure size 640x480 with 1 Axes>"
            ],
            "image/png": "[encoded data removed]"
          },
          "metadata": {}
        }
      ]
    },
    {
      "cell_type": "markdown",
      "source": [
        "The analysis of the gun violence data from 2012 to 2022, showed mass shootings accounted for the majority of incidents at 87.8%, while spree shootings represented a much smaller proportion at 12.2%. Effective measures shoud be put in place to prevent tragedies like this from occuring."
      ],
      "metadata": {
        "id": "5ZGoKniDs0_g"
      }
    },
    {
      "cell_type": "markdown",
      "source": [
        "Cases by Year"
      ],
      "metadata": {
        "id": "tTIEwhrBTqxT"
      }
    },
    {
      "cell_type": "code",
      "source": [
        "#cases by year 2012-2022\n",
        "counts = df.year.value_counts().sort_index()\n",
        "counts = counts.loc[2012:2022]  # filter rows for years 2010-2022\n",
        "plt.plot(counts.index, counts.values, '-o')\n",
        "plt.title('Cases by year (2012-2022)')\n",
        "plt.xlabel('Year')\n",
        "plt.ylabel('Cases')\n",
        "plt.show()"
      ],
      "metadata": {
        "colab": {
          "base_uri": "https://localhost:8080/",
          "height": 472
        },
        "id": "gJPEHemXoFrT",
        "outputId": "b0ca3587-fcce-46db-9d5d-4cc4d9b137f5"
      },
      "execution_count": 34,
      "outputs": [
        {
          "output_type": "display_data",
          "data": {
            "text/plain": [
              "<Figure size 640x480 with 1 Axes>"
            ],
            "image/png": "[encoded data removed]"
          },
          "metadata": {}
        }
      ]
    },
    {
      "cell_type": "markdown",
      "source": [
        "A significant increase in mass/spree shootings can be seen from 2017 to 2019 until it decreased significantly in 2020 and then increased steadily to 2022.\n",
        "- This trend suggests that the pandemic in 2020 may have had a significant impact on the occurrence of mass shootings.\n",
        "- Further analysis on why mass shooting increased in recent years."
      ],
      "metadata": {
        "id": "jmJ2QFgLtCFo"
      }
    },
    {
      "cell_type": "markdown",
      "source": [
        "Cases By Location"
      ],
      "metadata": {
        "id": "A4PuJbxdTxU8"
      }
    },
    {
      "cell_type": "code",
      "source": [
        "# Filter the data for years between 2010 and 2022\n",
        "df_years = df[(df['year'] >= 2012) & (df['year'] <= 2022)]\n",
        "\n",
        "# Get the count of gun violence incidents by location\n",
        "location_counts = df_years.groupby('location.1').count().sort_values(by='year', ascending=False)\n",
        "\n",
        "# Create a bar chart\n",
        "plt.figure(figsize=(12, 6))\n",
        "plt.bar(location_counts.index, location_counts['year'])\n",
        "plt.title('Gun Violence Cases by Location (2012-2022)')\n",
        "plt.xlabel('Location')\n",
        "plt.ylabel('Number of Cases')\n",
        "plt.xticks(rotation=90)\n",
        "plt.show()"
      ],
      "metadata": {
        "colab": {
          "base_uri": "https://localhost:8080/",
          "height": 623
        },
        "id": "6z3QUxrLSZJF",
        "outputId": "b95020d4-0d96-4b83-ef4c-8a94ca3553dd"
      },
      "execution_count": 35,
      "outputs": [
        {
          "output_type": "display_data",
          "data": {
            "text/plain": [
              "<Figure size 1200x600 with 1 Axes>"
            ],
            "image/png": "[encoded data removed]"
          },
          "metadata": {}
        }
      ]
    },
    {
      "cell_type": "code",
      "source": [
        "#Cases by Location\n",
        "counts_by_year = df.groupby(['year'])['location.1'].value_counts()\n",
        "counts_2022 = counts_by_year.loc[2022]\n",
        "counts_2022.plot(kind='bar')\n",
        "plt.title('Cases by Location 2022')\n",
        "plt.xlabel('Location')\n",
        "plt.ylabel('Cases')\n",
        "plt.show()"
      ],
      "metadata": {
        "colab": {
          "base_uri": "https://localhost:8080/",
          "height": 531
        },
        "id": "8tYa-HQuMS9d",
        "outputId": "700c1f6b-3fdc-438e-8aca-2e312586556f"
      },
      "execution_count": 36,
      "outputs": [
        {
          "output_type": "display_data",
          "data": {
            "text/plain": [
              "<Figure size 640x480 with 1 Axes>"
            ],
            "image/png": "[encoded data removed]"
          },
          "metadata": {}
        }
      ]
    },
    {
      "cell_type": "markdown",
      "source": [
        "Based on the data, the majority of gun violence incidents occurred in workplaces and other locations, accounting for 32 and 31 cases respectively. Schools and religious locations accounted for fewer cases, with 12 and 6 incidents respectively, while military and airport locations were the least common, with 4 and 1 cases respectively. \n",
        "- Employers should prioritize the safety of their employees by implementing safety protocols and training programs for dealing with active shooter situations. This may include having designated safe areas, conducting active shooter drills, and providing employees with information on how to report any concerning behavior. Additionally, employers should consider implementing background checks and mental health assessments for all employees as a preventive measure.\n",
        "- Gun violence in various locations, particularly in workplaces and other public areas, through targeted prevention and intervention efforts."
      ],
      "metadata": {
        "id": "FVwW4VqIvTyG"
      }
    },
    {
      "cell_type": "markdown",
      "source": [
        "Perpetrator Gender"
      ],
      "metadata": {
        "id": "UwA3OqvET_5_"
      }
    },
    {
      "cell_type": "code",
      "source": [
        "# Filter for years 2012-2022\n",
        "df_years = df[(df['year'] >= 2012) & (df['year'] <= 2022)]\n",
        "\n",
        "# Create a pie chart with percentage labels\n",
        "plt.pie(df_years['gender'].value_counts(), \n",
        "        labels=df_years['gender'].unique(), autopct='%1.1f%%')\n",
        "plt.title('Cases by Gender 2012-2022')\n",
        "plt.show()"
      ],
      "metadata": {
        "colab": {
          "base_uri": "https://localhost:8080/",
          "height": 428
        },
        "id": "4GqARhX2fW78",
        "outputId": "b3702f7a-3172-4143-aa2d-62037951c0bf"
      },
      "execution_count": 37,
      "outputs": [
        {
          "output_type": "display_data",
          "data": {
            "text/plain": [
              "<Figure size 640x480 with 1 Axes>"
            ],
            "image/png": "[encoded data removed]"
          },
          "metadata": {}
        }
      ]
    },
    {
      "cell_type": "markdown",
      "source": [
        "According to the data, 95.1% of the shooters are male. This finding highlights the need to address toxic masculinity and explore why men are more likely to engage in these violent acts. "
      ],
      "metadata": {
        "id": "bVVVzcrTsS4H"
      }
    },
    {
      "cell_type": "markdown",
      "source": [
        "Perpetrator Age Group"
      ],
      "metadata": {
        "id": "s2ZyCl_wVeq5"
      }
    },
    {
      "cell_type": "code",
      "source": [
        "# Filter the DataFrame to include only the rows for years 2012-2022 \n",
        "df_years = df[(df['year'] >= 2012) & (df['year'] <= 2022)]\n",
        "\n",
        "# Group data by year and age group, and count the number of incidents for each group\n",
        "counts_by_year = df_years.groupby(['year', 'age_group']).size().reset_index(name='count')\n",
        "\n",
        "# Pivot the data to have age groups as columns and years as rows\n",
        "counts_pivot = counts_by_year.pivot(index='year', columns='age_group', values='count')\n",
        "\n",
        "# Plot the bar chart\n",
        "counts_pivot.plot(kind='bar', stacked=True)\n",
        "plt.title('Perpetrator Age Group (2012-2022)')\n",
        "plt.xlabel('Year')\n",
        "plt.ylabel('Cases')\n",
        "plt.show()"
      ],
      "metadata": {
        "colab": {
          "base_uri": "https://localhost:8080/",
          "height": 493
        },
        "id": "gWpla9YXN1p3",
        "outputId": "b4508a86-359e-400e-dab2-108bb3e59e28"
      },
      "execution_count": 38,
      "outputs": [
        {
          "output_type": "display_data",
          "data": {
            "text/plain": [
              "<Figure size 640x480 with 1 Axes>"
            ],
            "image/png": "[encoded data removed]"
          },
          "metadata": {}
        }
      ]
    },
    {
      "cell_type": "code",
      "source": [
        "# Filter the DataFrame to include only the rows for years 2012-2022 and exclude age 0\n",
        "df_years = df[(df['year'] >= 2012) & (df['year'] <= 2022) & (df['age_of_shooter'] != 0)]\n",
        "\n",
        "# Plot a histogram of shooter age using Seaborn\n",
        "sns.histplot(data=df_years, x='age_of_shooter', bins=20, kde=False)\n",
        "plt.title('Distribution of Shooter Age (2012-2022)')\n",
        "plt.xlabel('Age')\n",
        "plt.ylabel('Frequency')\n",
        "plt.show"
      ],
      "metadata": {
        "colab": {
          "base_uri": "https://localhost:8080/",
          "height": 489
        },
        "id": "RQ8-S_U9-Vhj",
        "outputId": "dbbd120d-bc6b-454f-f504-6b4af24684f8"
      },
      "execution_count": 39,
      "outputs": [
        {
          "output_type": "execute_result",
          "data": {
            "text/plain": [
              "<function matplotlib.pyplot.show(close=None, block=None)>"
            ]
          },
          "metadata": {},
          "execution_count": 39
        },
        {
          "output_type": "display_data",
          "data": {
            "text/plain": [
              "<Figure size 640x480 with 1 Axes>"
            ],
            "image/png": "[encoded data removed]"
          },
          "metadata": {}
        }
      ]
    },
    {
      "cell_type": "markdown",
      "source": [
        "Based on the data, it can be observed that early adulthood is the most common age group involved in shootings, accounting for 52 incidents. Middle adulthood follows with 22 incidents, while teenage and old age groups account for 6 and 5 incidents respectively. \n",
        "- Preventive measures should be taken for early adults, such as improving access to mental health resources and increasing awareness about the potential warning signs of violent behavior\n",
        "- Targeted interventions should be considered for other age groups based on their unique risk factors."
      ],
      "metadata": {
        "id": "x7_9PJjgxCbR"
      }
    },
    {
      "cell_type": "markdown",
      "source": [
        "Fatalities per Month"
      ],
      "metadata": {
        "id": "N9-ZpAZjWJt3"
      }
    },
    {
      "cell_type": "code",
      "source": [
        "#pivot table of fatalities by year and month\n",
        "pivot_table = pd.pivot_table(df, values='fatalities', index='year', columns='month_name', aggfunc='sum')\n",
        "\n",
        "# Create the heatmap using seaborn\n",
        "plt.figure(figsize=(10,6))\n",
        "sns.heatmap(pivot_table, cmap='Blues', annot=True, fmt='g', linewidths=0.5)\n",
        "plt.title(\"Gun Violence Fatalities per Month\")\n",
        "plt.xlabel(\"Month\")\n",
        "plt.ylabel(\"Year\")\n",
        "plt.show()"
      ],
      "metadata": {
        "colab": {
          "base_uri": "https://localhost:8080/",
          "height": 627
        },
        "id": "JfuYqSvokszb",
        "outputId": "bdc1068b-d12d-45b0-b340-3a8e63620c84"
      },
      "execution_count": 40,
      "outputs": [
        {
          "output_type": "display_data",
          "data": {
            "text/plain": [
              "<Figure size 1000x600 with 2 Axes>"
            ],
            "image/png": "[encoded data removed]"
          },
          "metadata": {}
        }
      ]
    },
    {
      "cell_type": "code",
      "source": [
        "# Filter for years 2012-2022\n",
        "df_years = df[(df['year'] >= 2012) & (df['year'] <= 2022)]\n",
        "\n",
        "# Group the data by year and calculate the total number of fatalities for each year\n",
        "fatalities_by_year = df_years.groupby('year')['fatalities'].sum().reset_index()\n",
        "\n",
        "# Create the line graph\n",
        "plt.plot(fatalities_by_year['year'], fatalities_by_year['fatalities'])\n",
        "plt.title('Total Fatalities from Gun Violence (2012-2022)')\n",
        "plt.xlabel('Year')\n",
        "plt.ylabel('Number of Fatalities')\n",
        "plt.show()"
      ],
      "metadata": {
        "colab": {
          "base_uri": "https://localhost:8080/",
          "height": 472
        },
        "id": "b0VwNByU2G_Y",
        "outputId": "6e724a43-f885-4ac0-ef57-e69a0796be5e"
      },
      "execution_count": 41,
      "outputs": [
        {
          "output_type": "display_data",
          "data": {
            "text/plain": [
              "<Figure size 640x480 with 1 Axes>"
            ],
            "image/png": "[encoded data removed]"
          },
          "metadata": {}
        }
      ]
    },
    {
      "cell_type": "code",
      "source": [
        "# Filter for 2012-2022\n",
        "df_years = df[(df['year'] >= 2012) & (df['year'] <= 2022)]\n",
        "\n",
        "# New DataFrame with columns for mass/spree shooting and fatalities\n",
        "shootings = df_years[df_years['type'].isin(['Mass', 'Spree'])][['type', 'fatalities']]\n",
        "\n",
        "plt.scatter(shootings['fatalities'], shootings['type'])\n",
        "plt.title('Mass/Spree Shootings and Fatalities (2012-2022)')\n",
        "plt.xlabel('Number of Fatalities')\n",
        "plt.ylabel('Type of Shooting')\n",
        "plt.show()"
      ],
      "metadata": {
        "colab": {
          "base_uri": "https://localhost:8080/",
          "height": 472
        },
        "id": "ImTzHjI83KLd",
        "outputId": "b5304ed8-8c52-4d2f-bc92-2ec0090ee8af"
      },
      "execution_count": 42,
      "outputs": [
        {
          "output_type": "display_data",
          "data": {
            "text/plain": [
              "<Figure size 640x480 with 1 Axes>"
            ],
            "image/png": "[encoded data removed]"
          },
          "metadata": {}
        }
      ]
    },
    {
      "cell_type": "markdown",
      "source": [
        "The number of fatalities due to gun violence has been consistently high from 2012 to 2022, with a few peaks and dips.\n",
        "As per the data 2017 has the most fatalities while 2020 has least.\n",
        "\n",
        "It appears that there may be a correlation between the type of shooting and the number of fatalities, with Mass shootings resulting in higher numbers of fatalities on average compared to Spree shootings.\n",
        "\n",
        "-Factors contributing to the severity of these shootings should be analyzed furher in order to develop more effective measures for prevention and response."
      ],
      "metadata": {
        "id": "T9S-YRm71kOl"
      }
    },
    {
      "cell_type": "markdown",
      "source": [
        "Gun Violence by State"
      ],
      "metadata": {
        "id": "B8SD19HpWf19"
      }
    },
    {
      "cell_type": "code",
      "source": [
        "# Filter the DataFrame for year 2012-2022\n",
        "df = df[df['year'].between(2012, 2022)]\n",
        "\n",
        "# count of gun violence incidents by state\n",
        "state_counts = df.groupby('State')['State'].count()\n",
        "\n",
        "# Create a treemap \n",
        "fig = px.treemap(\n",
        "    names=state_counts.index,\n",
        "    parents=['USA'] * len(state_counts),\n",
        "    values=state_counts.values,\n",
        "    title='Gun Violence by State (2012-2022)',\n",
        ")\n",
        "fig.show()"
      ],
      "metadata": {
        "colab": {
          "base_uri": "https://localhost:8080/",
          "height": 542
        },
        "id": "c3afGL7X79j2",
        "outputId": "43fe6332-21ee-4e02-952c-2203e8277d2b"
      },
      "execution_count": 43,
      "outputs": [
        {
          "output_type": "display_data",
          "data": {
            "text/html": [
              "<html>\n",
              "<head><meta charset=\"utf-8\" /></head>\n",
              "<body>\n",
              "    <div>            <script src=\"https://cdnjs.cloudflare.com/ajax/libs/mathjax/2.7.5/MathJax.js?config=TeX-AMS-MML_SVG\"></script><script type=\"text/javascript\">if (window.MathJax && window.MathJax.Hub && window.MathJax.Hub.Config) {window.MathJax.Hub.Config({SVG: {font: \"STIX-Web\"}});}</script>                <script type=\"text/javascript\">window.PlotlyConfig = {MathJaxConfig: 'local'};</script>\n",
              "        <script src=\"https://cdn.plot.ly/plotly-2.18.2.min.js\"></script>                <div id=\"1f15d5da-81e0-48ca-bdf0-e3a33f5fca62\" class=\"plotly-graph-div\" style=\"height:525px; width:100%;\"></div>            <script type=\"text/javascript\">                                    window.PLOTLYENV=window.PLOTLYENV || {};                                    if (document.getElementById(\"1f15d5da-81e0-48ca-bdf0-e3a33f5fca62\")) {                    Plotly.newPlot(                        \"1f15d5da-81e0-48ca-bdf0-e3a33f5fca62\",                        [{\"domain\":{\"x\":[0.0,1.0],\"y\":[0.0,1.0]},\"hovertemplate\":\"label=%{label}<br>value=%{value}<br>parent=%{parent}<extra></extra>\",\"labels\":[\" Alabama\",\" California\",\" Colorado\",\" Connecticut\",\" D.C.\",\" Florida\",\" Georgia\",\" Illinois\",\" Indiana\",\" Kansas\",\" Lousiana\",\" Maryland\",\" Michigan\",\" Minnesota\",\" Missouri\",\" Nevada\",\" New Jersey\",\" New York\",\" North Carolina\",\" Ohio\",\" Oklahoma\",\" Oregon\",\" Pennsylvania\",\" South Carolina\",\" Tennessee\",\" Texas\",\" Virginia\",\" Washington\",\" Wisconsin\"],\"name\":\"\",\"parents\":[\"USA\",\"USA\",\"USA\",\"USA\",\"USA\",\"USA\",\"USA\",\"USA\",\"USA\",\"USA\",\"USA\",\"USA\",\"USA\",\"USA\",\"USA\",\"USA\",\"USA\",\"USA\",\"USA\",\"USA\",\"USA\",\"USA\",\"USA\",\"USA\",\"USA\",\"USA\",\"USA\",\"USA\",\"USA\"],\"values\":[1,15,6,1,1,7,2,3,2,1,1,4,2,1,1,1,1,2,1,3,1,1,4,1,2,7,3,4,3],\"type\":\"treemap\"}],                        {\"template\":{\"data\":{\"histogram2dcontour\":[{\"type\":\"histogram2dcontour\",\"colorbar\":{\"outlinewidth\":0,\"ticks\":\"\"},\"colorscale\":[[0.0,\"#0d0887\"],[0.1111111111111111,\"#46039f\"],[0.2222222222222222,\"#7201a8\"],[0.3333333333333333,\"#9c179e\"],[0.4444444444444444,\"#bd3786\"],[0.5555555555555556,\"#d8576b\"],[0.6666666666666666,\"#ed7953\"],[0.7777777777777778,\"#fb9f3a\"],[0.8888888888888888,\"#fdca26\"],[1.0,\"#f0f921\"]]}],\"choropleth\":[{\"type\":\"choropleth\",\"colorbar\":{\"outlinewidth\":0,\"ticks\":\"\"}}],\"histogram2d\":[{\"type\":\"histogram2d\",\"colorbar\":{\"outlinewidth\":0,\"ticks\":\"\"},\"colorscale\":[[0.0,\"#0d0887\"],[0.1111111111111111,\"#46039f\"],[0.2222222222222222,\"#7201a8\"],[0.3333333333333333,\"#9c179e\"],[0.4444444444444444,\"#bd3786\"],[0.5555555555555556,\"#d8576b\"],[0.6666666666666666,\"#ed7953\"],[0.7777777777777778,\"#fb9f3a\"],[0.8888888888888888,\"#fdca26\"],[1.0,\"#f0f921\"]]}],\"heatmap\":[{\"type\":\"heatmap\",\"colorbar\":{\"outlinewidth\":0,\"ticks\":\"\"},\"colorscale\":[[0.0,\"#0d0887\"],[0.1111111111111111,\"#46039f\"],[0.2222222222222222,\"#7201a8\"],[0.3333333333333333,\"#9c179e\"],[0.4444444444444444,\"#bd3786\"],[0.5555555555555556,\"#d8576b\"],[0.6666666666666666,\"#ed7953\"],[0.7777777777777778,\"#fb9f3a\"],[0.8888888888888888,\"#fdca26\"],[1.0,\"#f0f921\"]]}],\"heatmapgl\":[{\"type\":\"heatmapgl\",\"colorbar\":{\"outlinewidth\":0,\"ticks\":\"\"},\"colorscale\":[[0.0,\"#0d0887\"],[0.1111111111111111,\"#46039f\"],[0.2222222222222222,\"#7201a8\"],[0.3333333333333333,\"#9c179e\"],[0.4444444444444444,\"#bd3786\"],[0.5555555555555556,\"#d8576b\"],[0.6666666666666666,\"#ed7953\"],[0.7777777777777778,\"#fb9f3a\"],[0.8888888888888888,\"#fdca26\"],[1.0,\"#f0f921\"]]}],\"contourcarpet\":[{\"type\":\"contourcarpet\",\"colorbar\":{\"outlinewidth\":0,\"ticks\":\"\"}}],\"contour\":[{\"type\":\"contour\",\"colorbar\":{\"outlinewidth\":0,\"ticks\":\"\"},\"colorscale\":[[0.0,\"#0d0887\"],[0.1111111111111111,\"#46039f\"],[0.2222222222222222,\"#7201a8\"],[0.3333333333333333,\"#9c179e\"],[0.4444444444444444,\"#bd3786\"],[0.5555555555555556,\"#d8576b\"],[0.6666666666666666,\"#ed7953\"],[0.7777777777777778,\"#fb9f3a\"],[0.8888888888888888,\"#fdca26\"],[1.0,\"#f0f921\"]]}],\"surface\":[{\"type\":\"surface\",\"colorbar\":{\"outlinewidth\":0,\"ticks\":\"\"},\"colorscale\":[[0.0,\"#0d0887\"],[0.1111111111111111,\"#46039f\"],[0.2222222222222222,\"#7201a8\"],[0.3333333333333333,\"#9c179e\"],[0.4444444444444444,\"#bd3786\"],[0.5555555555555556,\"#d8576b\"],[0.6666666666666666,\"#ed7953\"],[0.7777777777777778,\"#fb9f3a\"],[0.8888888888888888,\"#fdca26\"],[1.0,\"#f0f921\"]]}],\"mesh3d\":[{\"type\":\"mesh3d\",\"colorbar\":{\"outlinewidth\":0,\"ticks\":\"\"}}],\"scatter\":[{\"fillpattern\":{\"fillmode\":\"overlay\",\"size\":10,\"solidity\":0.2},\"type\":\"scatter\"}],\"parcoords\":[{\"type\":\"parcoords\",\"line\":{\"colorbar\":{\"outlinewidth\":0,\"ticks\":\"\"}}}],\"scatterpolargl\":[{\"type\":\"scatterpolargl\",\"marker\":{\"colorbar\":{\"outlinewidth\":0,\"ticks\":\"\"}}}],\"bar\":[{\"error_x\":{\"color\":\"#2a3f5f\"},\"error_y\":{\"color\":\"#2a3f5f\"},\"marker\":{\"line\":{\"color\":\"#E5ECF6\",\"width\":0.5},\"pattern\":{\"fillmode\":\"overlay\",\"size\":10,\"solidity\":0.2}},\"type\":\"bar\"}],\"scattergeo\":[{\"type\":\"scattergeo\",\"marker\":{\"colorbar\":{\"outlinewidth\":0,\"ticks\":\"\"}}}],\"scatterpolar\":[{\"type\":\"scatterpolar\",\"marker\":{\"colorbar\":{\"outlinewidth\":0,\"ticks\":\"\"}}}],\"histogram\":[{\"marker\":{\"pattern\":{\"fillmode\":\"overlay\",\"size\":10,\"solidity\":0.2}},\"type\":\"histogram\"}],\"scattergl\":[{\"type\":\"scattergl\",\"marker\":{\"colorbar\":{\"outlinewidth\":0,\"ticks\":\"\"}}}],\"scatter3d\":[{\"type\":\"scatter3d\",\"line\":{\"colorbar\":{\"outlinewidth\":0,\"ticks\":\"\"}},\"marker\":{\"colorbar\":{\"outlinewidth\":0,\"ticks\":\"\"}}}],\"scattermapbox\":[{\"type\":\"scattermapbox\",\"marker\":{\"colorbar\":{\"outlinewidth\":0,\"ticks\":\"\"}}}],\"scatterternary\":[{\"type\":\"scatterternary\",\"marker\":{\"colorbar\":{\"outlinewidth\":0,\"ticks\":\"\"}}}],\"scattercarpet\":[{\"type\":\"scattercarpet\",\"marker\":{\"colorbar\":{\"outlinewidth\":0,\"ticks\":\"\"}}}],\"carpet\":[{\"aaxis\":{\"endlinecolor\":\"#2a3f5f\",\"gridcolor\":\"white\",\"linecolor\":\"white\",\"minorgridcolor\":\"white\",\"startlinecolor\":\"#2a3f5f\"},\"baxis\":{\"endlinecolor\":\"#2a3f5f\",\"gridcolor\":\"white\",\"linecolor\":\"white\",\"minorgridcolor\":\"white\",\"startlinecolor\":\"#2a3f5f\"},\"type\":\"carpet\"}],\"table\":[{\"cells\":{\"fill\":{\"color\":\"#EBF0F8\"},\"line\":{\"color\":\"white\"}},\"header\":{\"fill\":{\"color\":\"#C8D4E3\"},\"line\":{\"color\":\"white\"}},\"type\":\"table\"}],\"barpolar\":[{\"marker\":{\"line\":{\"color\":\"#E5ECF6\",\"width\":0.5},\"pattern\":{\"fillmode\":\"overlay\",\"size\":10,\"solidity\":0.2}},\"type\":\"barpolar\"}],\"pie\":[{\"automargin\":true,\"type\":\"pie\"}]},\"layout\":{\"autotypenumbers\":\"strict\",\"colorway\":[\"#636efa\",\"#EF553B\",\"#00cc96\",\"#ab63fa\",\"#FFA15A\",\"#19d3f3\",\"#FF6692\",\"#B6E880\",\"#FF97FF\",\"#FECB52\"],\"font\":{\"color\":\"#2a3f5f\"},\"hovermode\":\"closest\",\"hoverlabel\":{\"align\":\"left\"},\"paper_bgcolor\":\"white\",\"plot_bgcolor\":\"#E5ECF6\",\"polar\":{\"bgcolor\":\"#E5ECF6\",\"angularaxis\":{\"gridcolor\":\"white\",\"linecolor\":\"white\",\"ticks\":\"\"},\"radialaxis\":{\"gridcolor\":\"white\",\"linecolor\":\"white\",\"ticks\":\"\"}},\"ternary\":{\"bgcolor\":\"#E5ECF6\",\"aaxis\":{\"gridcolor\":\"white\",\"linecolor\":\"white\",\"ticks\":\"\"},\"baxis\":{\"gridcolor\":\"white\",\"linecolor\":\"white\",\"ticks\":\"\"},\"caxis\":{\"gridcolor\":\"white\",\"linecolor\":\"white\",\"ticks\":\"\"}},\"coloraxis\":{\"colorbar\":{\"outlinewidth\":0,\"ticks\":\"\"}},\"colorscale\":{\"sequential\":[[0.0,\"#0d0887\"],[0.1111111111111111,\"#46039f\"],[0.2222222222222222,\"#7201a8\"],[0.3333333333333333,\"#9c179e\"],[0.4444444444444444,\"#bd3786\"],[0.5555555555555556,\"#d8576b\"],[0.6666666666666666,\"#ed7953\"],[0.7777777777777778,\"#fb9f3a\"],[0.8888888888888888,\"#fdca26\"],[1.0,\"#f0f921\"]],\"sequentialminus\":[[0.0,\"#0d0887\"],[0.1111111111111111,\"#46039f\"],[0.2222222222222222,\"#7201a8\"],[0.3333333333333333,\"#9c179e\"],[0.4444444444444444,\"#bd3786\"],[0.5555555555555556,\"#d8576b\"],[0.6666666666666666,\"#ed7953\"],[0.7777777777777778,\"#fb9f3a\"],[0.8888888888888888,\"#fdca26\"],[1.0,\"#f0f921\"]],\"diverging\":[[0,\"#8e0152\"],[0.1,\"#c51b7d\"],[0.2,\"#de77ae\"],[0.3,\"#f1b6da\"],[0.4,\"#fde0ef\"],[0.5,\"#f7f7f7\"],[0.6,\"#e6f5d0\"],[0.7,\"#b8e186\"],[0.8,\"#7fbc41\"],[0.9,\"#4d9221\"],[1,\"#276419\"]]},\"xaxis\":{\"gridcolor\":\"white\",\"linecolor\":\"white\",\"ticks\":\"\",\"title\":{\"standoff\":15},\"zerolinecolor\":\"white\",\"automargin\":true,\"zerolinewidth\":2},\"yaxis\":{\"gridcolor\":\"white\",\"linecolor\":\"white\",\"ticks\":\"\",\"title\":{\"standoff\":15},\"zerolinecolor\":\"white\",\"automargin\":true,\"zerolinewidth\":2},\"scene\":{\"xaxis\":{\"backgroundcolor\":\"#E5ECF6\",\"gridcolor\":\"white\",\"linecolor\":\"white\",\"showbackground\":true,\"ticks\":\"\",\"zerolinecolor\":\"white\",\"gridwidth\":2},\"yaxis\":{\"backgroundcolor\":\"#E5ECF6\",\"gridcolor\":\"white\",\"linecolor\":\"white\",\"showbackground\":true,\"ticks\":\"\",\"zerolinecolor\":\"white\",\"gridwidth\":2},\"zaxis\":{\"backgroundcolor\":\"#E5ECF6\",\"gridcolor\":\"white\",\"linecolor\":\"white\",\"showbackground\":true,\"ticks\":\"\",\"zerolinecolor\":\"white\",\"gridwidth\":2}},\"shapedefaults\":{\"line\":{\"color\":\"#2a3f5f\"}},\"annotationdefaults\":{\"arrowcolor\":\"#2a3f5f\",\"arrowhead\":0,\"arrowwidth\":1},\"geo\":{\"bgcolor\":\"white\",\"landcolor\":\"#E5ECF6\",\"subunitcolor\":\"white\",\"showland\":true,\"showlakes\":true,\"lakecolor\":\"white\"},\"title\":{\"x\":0.05},\"mapbox\":{\"style\":\"light\"}}},\"legend\":{\"tracegroupgap\":0},\"title\":{\"text\":\"Gun Violence by State (2012-2022)\"}},                        {\"responsive\": true}                    ).then(function(){\n",
              "                            \n",
              "var gd = document.getElementById('1f15d5da-81e0-48ca-bdf0-e3a33f5fca62');\n",
              "var x = new MutationObserver(function (mutations, observer) {{\n",
              "        var display = window.getComputedStyle(gd).display;\n",
              "        if (!display || display === 'none') {{\n",
              "            console.log([gd, 'removed!']);\n",
              "            Plotly.purge(gd);\n",
              "            observer.disconnect();\n",
              "        }}\n",
              "}});\n",
              "\n",
              "// Listen for the removal of the full notebook cells\n",
              "var notebookContainer = gd.closest('#notebook-container');\n",
              "if (notebookContainer) {{\n",
              "    x.observe(notebookContainer, {childList: true});\n",
              "}}\n",
              "\n",
              "// Listen for the clearing of the current output cell\n",
              "var outputEl = gd.closest('.output');\n",
              "if (outputEl) {{\n",
              "    x.observe(outputEl, {childList: true});\n",
              "}}\n",
              "\n",
              "                        })                };                            </script>        </div>\n",
              "</body>\n",
              "</html>"
            ]
          },
          "metadata": {}
        }
      ]
    },
    {
      "cell_type": "markdown",
      "source": [
        "California had the highest number of incidents with 15 reported shootings indicating a high level of gun violence in the state, followed by florida and Texas with 7 cases and Colorado with 6 cases while other states had less than 4 reported incidents.\n",
        "- Policymakers and community leaders should work together to identify the root causes of gun violence in their states.\n",
        "- There should be a comprehensive review of current gun laws and policies, identification of potential risk factors and preventative measures, and engagement with local communities to help raise awareness and support for initiatives aimed at reducing gun violence."
      ],
      "metadata": {
        "id": "wG5QCtU96BLX"
      }
    },
    {
      "cell_type": "markdown",
      "source": [
        "Perpetrator's Mental Health"
      ],
      "metadata": {
        "id": "03sAsBFfYdv3"
      }
    },
    {
      "cell_type": "code",
      "source": [
        "# Filter the DataFrame to include only the rows for years 2012-2022 \n",
        "df_years = df[(df['year'] >= 2012) & (df['year'] <= 2022)]\n",
        "\n",
        "# Group data by year and age group, and count the number of incidents for each group\n",
        "counts_by_year = df_years.groupby(['year', 'prior_signs_mental_health_issues']).size().reset_index(name='count')\n",
        "\n",
        "# Pivot the data to have age groups as columns and years as rows\n",
        "counts_pivot = counts_by_year.pivot(index='year', columns='prior_signs_mental_health_issues', values='count')\n",
        "\n",
        "# Plot the bar chart\n",
        "counts_pivot.plot(kind='bar', stacked=True)\n",
        "plt.title('Perpetrator Mental Health (2012-2022)')\n",
        "plt.xlabel('Year')\n",
        "plt.ylabel('Perpetrator')\n",
        "plt.show()"
      ],
      "metadata": {
        "colab": {
          "base_uri": "https://localhost:8080/",
          "height": 493
        },
        "id": "OiY_vusXYXxm",
        "outputId": "4cc79fe3-d6c5-4807-9775-43491debb6a4"
      },
      "execution_count": 44,
      "outputs": [
        {
          "output_type": "display_data",
          "data": {
            "text/plain": [
              "<Figure size 640x480 with 1 Axes>"
            ],
            "image/png": "[encoded data removed]"
          },
          "metadata": {}
        }
      ]
    },
    {
      "cell_type": "markdown",
      "source": [
        "Based on the data available, it appears that mental health is often unknown in cases of gun violence, with over 50% of cases having an unknown mental health status. However, in cases where mental health status is known, individuals with mental health issues are involved in a significant number of incidents.\n",
        "- The need for better mental health resources and support, as well as measures to prevent individuals with mental health conditions from accessing firearms.\n",
        "- Individuals should be encouraged to check and take care of their mental health."
      ],
      "metadata": {
        "id": "dYTaiAkmrHKD"
      }
    },
    {
      "cell_type": "markdown",
      "source": [
        "Gun Obtained"
      ],
      "metadata": {
        "id": "3XMtfsASb8EM"
      }
    },
    {
      "cell_type": "code",
      "source": [
        "# Filter the DataFrame to include only the rows for years 2012-2022 \n",
        "df_years = df[(df['year'] >= 2012) & (df['year'] <= 2022)]\n",
        "\n",
        "# Group data by year and weapons_obtained_legally, and count the number of incidents for each group\n",
        "counts_by_year = df_years.groupby(['year', 'weapons_obtained_legally']).size().reset_index(name='count')\n",
        "\n",
        "# Pivot the data to have weapons_obtained_legally as columns and years as rows\n",
        "counts_pivot = counts_by_year.pivot(index='year', columns='weapons_obtained_legally', values='count')\n",
        "\n",
        "# Plot the bar chart\n",
        "counts_pivot.plot(kind='bar', stacked=True)\n",
        "plt.title('How Weapon Was Obtained (2012-2022)')\n",
        "plt.xlabel('Year')\n",
        "plt.ylabel('No. of Cases')\n",
        "plt.show()"
      ],
      "metadata": {
        "colab": {
          "base_uri": "https://localhost:8080/",
          "height": 493
        },
        "id": "QoPX9hO1b4RE",
        "outputId": "6b00eb95-45c2-4a6d-ecb5-d811cd6dbba2"
      },
      "execution_count": 45,
      "outputs": [
        {
          "output_type": "display_data",
          "data": {
            "text/plain": [
              "<Figure size 640x480 with 1 Axes>"
            ],
            "image/png": "[encoded data removed]"
          },
          "metadata": {}
        }
      ]
    },
    {
      "cell_type": "markdown",
      "source": [
        "Cases by Race"
      ],
      "metadata": {
        "id": "QldiGc4lmJQn"
      }
    },
    {
      "cell_type": "code",
      "source": [
        "# Filter the data for years between 2010 and 2022\n",
        "df_years = df[(df['year'] >= 2012) & (df['year'] <= 2022)]\n",
        "\n",
        "# Get the count of gun violence incidents by location\n",
        "location_counts = df_years.groupby('race').count().sort_values(by='year', ascending=False)\n",
        "\n",
        "# Create a bar chart\n",
        "plt.figure(figsize=(12, 6))\n",
        "plt.bar(location_counts.index, location_counts['year'])\n",
        "plt.title('Cases by Race (2012-2022)')\n",
        "plt.xlabel('Race')\n",
        "plt.ylabel('Number of Cases')\n",
        "plt.xticks(rotation=90)\n",
        "plt.show()"
      ],
      "metadata": {
        "colab": {
          "base_uri": "https://localhost:8080/",
          "height": 666
        },
        "id": "00srqHfAmPi0",
        "outputId": "9ed993d3-30a7-45c4-ef55-3e31ad8fed54"
      },
      "execution_count": 46,
      "outputs": [
        {
          "output_type": "display_data",
          "data": {
            "text/plain": [
              "<Figure size 1200x600 with 1 Axes>"
            ],
            "image/png": "[encoded data removed]"
          },
          "metadata": {}
        }
      ]
    },
    {
      "cell_type": "markdown",
      "source": [
        "A significant portion of shooters were reported to be white followed by balck and unclear. \n",
        "- Factors that contribute to white and black individuals being invoved in mass/spree shootings should be further examined.\n",
        "-  More accurate and comprehensive reporting of data related to gun violence, including perpetrator demographics, in order to better understand and address this issue.\n"
      ],
      "metadata": {
        "id": "XXE1BC-Dsmr7"
      }
    }
  ]
}